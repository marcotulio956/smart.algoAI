{
 "cells": [
  {
   "cell_type": "markdown",
   "metadata": {},
   "source": [
    "## DECOM: INTELIGENCIA COMPUTACIONAL, Prof. Rogério; Marco Túlio S. da Mata; CEFET-MG"
   ]
  },
  {
   "cell_type": "markdown",
   "metadata": {},
   "source": [
    "## Handwritten Image Detection with Keras using MNIST data\n",
    "\n",
    "In this exercise we will work with image data: specifically the famous MNIST data set.  This data set contains 70,000 images of handwritten digits in grayscale (0=black, 255 = white).  The images are 28 pixels by 28 pixels for a total of 784 pixels.  This is quite small by image standards.  Also, the images are well centered and isolated.  This makes this problem solvable with standard fully connected neural nets without too much pre-work."
   ]
  },
  {
   "cell_type": "markdown",
   "metadata": {},
   "source": [
    "In the first part of this notebook, we will walk you through loading in the data, building a network, and training it.  Then it will be your turn to try different models and see if you can improve performance"
   ]
  },
  {
   "cell_type": "code",
   "execution_count": 1,
   "metadata": {},
   "outputs": [],
   "source": [
    "# Preliminaries\n",
    "\n",
    "from __future__ import print_function\n",
    "\n",
    "import keras\n",
    "from keras.datasets import mnist\n",
    "from keras.models import Sequential\n",
    "from keras.layers import Dense, Dropout\n",
    "from tensorflow.keras.optimizers import RMSprop\n",
    "from tensorflow.keras.utils import to_categorical\n",
    "#from keras.utils.np_utils import to_categorical\n",
    "from keras.utils import to_categorical\n",
    "#from tensorflow.keras.utils import to_categorical\n",
    "\n",
    "import numpy as np\n",
    "import matplotlib.pyplot as plt\n",
    "%matplotlib inline"
   ]
  },
  {
   "cell_type": "markdown",
   "metadata": {
    "collapsed": true
   },
   "source": [
    "Let's explore the dataset a little bit"
   ]
  },
  {
   "cell_type": "code",
   "execution_count": 2,
   "metadata": {},
   "outputs": [
    {
     "name": "stdout",
     "output_type": "stream",
     "text": [
      "Downloading data from https://storage.googleapis.com/tensorflow/tf-keras-datasets/mnist.npz\n",
      "11490434/11490434 [==============================] - 1s 0us/step\n"
     ]
    }
   ],
   "source": [
    "# Load the data, shuffled and split between train and test sets\n",
    "(x_train, y_train), (x_test, y_test) = mnist.load_data()"
   ]
  },
  {
   "cell_type": "code",
   "execution_count": 3,
   "metadata": {},
   "outputs": [
    {
     "data": {
      "text/plain": [
       "(28, 28)"
      ]
     },
     "execution_count": 3,
     "metadata": {},
     "output_type": "execute_result"
    }
   ],
   "source": [
    "x_train[0].shape"
   ]
  },
  {
   "cell_type": "code",
   "execution_count": 4,
   "metadata": {},
   "outputs": [
    {
     "data": {
      "text/plain": [
       "array([[  0,   0,   0,   0,   0,   0,   0,   0,   0,   0,   0,   0,   0,\n",
       "          0,   0,   0,   0,   0,   0,   0,   0,   0,   0,   0,   0,   0,\n",
       "          0,   0],\n",
       "       [  0,   0,   0,   0,   0,   0,   0,   0,   0,   0,   0,   0,   0,\n",
       "          0,   0,   0,   0,   0,   0,   0,   0,   0,   0,   0,   0,   0,\n",
       "          0,   0],\n",
       "       [  0,   0,   0,   0,   0,   0,   0,   0,   0,   0,   0,   0,   0,\n",
       "          0,   0,   0,   0,   0,   0,   0,   0,   0,   0,   0,   0,   0,\n",
       "          0,   0],\n",
       "       [  0,   0,   0,   0,   0,   0,   0,   0,   0,   0,   0,   0,   0,\n",
       "          0,   0,   0,   0,   0,   0,   0,   0,   0,   0,   0,   0,   0,\n",
       "          0,   0],\n",
       "       [  0,   0,   0,   0,   0,   0,   0,   0,   0,   0,   0,   0,   0,\n",
       "          0,   0,   0,   0,   0,   0,   0,   0,   0,   0,   0,   0,   0,\n",
       "          0,   0],\n",
       "       [  0,   0,   0,   0,   0,   0,   0,   0,   0,   0,   0,  87, 138,\n",
       "        170, 253, 201, 244, 212, 222, 138,  86,  22,   0,   0,   0,   0,\n",
       "          0,   0],\n",
       "       [  0,   0,   0,   0,   0,   0,   0,   0,   0,   0,  95, 253, 252,\n",
       "        252, 252, 252, 253, 252, 252, 252, 252, 245,  80,   0,   0,   0,\n",
       "          0,   0],\n",
       "       [  0,   0,   0,   0,   0,   0,   0,   0,   0,  68, 246, 205,  69,\n",
       "         69,  69,  69,  69,  69,  69,  69, 205, 253, 240,  50,   0,   0,\n",
       "          0,   0],\n",
       "       [  0,   0,   0,   0,   0,   0,   0,   0,   0, 187, 252, 218,  34,\n",
       "          0,   0,   0,   0,   0,   0,   0, 116, 253, 252,  69,   0,   0,\n",
       "          0,   0],\n",
       "       [  0,   0,   0,   0,   0,   0,   0,   0, 116, 248, 252, 253,  92,\n",
       "          0,   0,   0,   0,   0,   0,  95, 230, 253, 157,   6,   0,   0,\n",
       "          0,   0],\n",
       "       [  0,   0,   0,   0,   0,   0,   0,   0, 116, 249, 253, 189,  42,\n",
       "          0,   0,   0,   0,  36, 170, 253, 243, 158,   0,   0,   0,   0,\n",
       "          0,   0],\n",
       "       [  0,   0,   0,   0,   0,   0,   0,   0,   0, 133, 252, 245, 140,\n",
       "         34,   0,   0,  57, 219, 252, 235,  60,   0,   0,   0,   0,   0,\n",
       "          0,   0],\n",
       "       [  0,   0,   0,   0,   0,   0,   0,   0,   0,  25, 205, 253, 252,\n",
       "        234, 184, 184, 253, 240, 100,  44,   0,   0,   0,   0,   0,   0,\n",
       "          0,   0],\n",
       "       [  0,   0,   0,   0,   0,   0,   0,   0,   0,   0,  21, 161, 219,\n",
       "        252, 252, 252, 234,  37,   0,   0,   0,   0,   0,   0,   0,   0,\n",
       "          0,   0],\n",
       "       [  0,   0,   0,   0,   0,   0,   0,   0,   0,   0,   0,  11, 203,\n",
       "        252, 252, 252, 251, 135,   0,   0,   0,   0,   0,   0,   0,   0,\n",
       "          0,   0],\n",
       "       [  0,   0,   0,   0,   0,   0,   0,   0,   0,   9,  76, 255, 253,\n",
       "        205, 168, 220, 255, 253, 137,   5,   0,   0,   0,   0,   0,   0,\n",
       "          0,   0],\n",
       "       [  0,   0,   0,   0,   0,   0,   0,   0,   0, 114, 252, 249, 132,\n",
       "         25,   0,   0, 180, 252, 252,  45,   0,   0,   0,   0,   0,   0,\n",
       "          0,   0],\n",
       "       [  0,   0,   0,   0,   0,   0,   0,   0,  51, 220, 252, 199,   0,\n",
       "          0,   0,   0,  38, 186, 252, 154,   7,   0,   0,   0,   0,   0,\n",
       "          0,   0],\n",
       "       [  0,   0,   0,   0,   0,   0,   0,   0, 184, 252, 252,  21,   0,\n",
       "          0,   0,   0,   0,  67, 252, 252,  22,   0,   0,   0,   0,   0,\n",
       "          0,   0],\n",
       "       [  0,   0,   0,   0,   0,   0,   0,   0, 184, 252, 200,   0,   0,\n",
       "          0,   0,   0,   0,  47, 252, 252,  22,   0,   0,   0,   0,   0,\n",
       "          0,   0],\n",
       "       [  0,   0,   0,   0,   0,   0,   0,   0, 185, 253, 201,   0,   0,\n",
       "          0,   0,   0,   3, 118, 253, 245,  21,   0,   0,   0,   0,   0,\n",
       "          0,   0],\n",
       "       [  0,   0,   0,   0,   0,   0,   0,   0, 163, 252, 252,   0,   0,\n",
       "          0,   0,   0,  97, 252, 252,  87,   0,   0,   0,   0,   0,   0,\n",
       "          0,   0],\n",
       "       [  0,   0,   0,   0,   0,   0,   0,   0,  51, 240, 252, 123,  70,\n",
       "         70, 112, 184, 222, 252, 170,  13,   0,   0,   0,   0,   0,   0,\n",
       "          0,   0],\n",
       "       [  0,   0,   0,   0,   0,   0,   0,   0,   0, 165, 252, 253, 252,\n",
       "        252, 252, 252, 245, 139,  13,   0,   0,   0,   0,   0,   0,   0,\n",
       "          0,   0],\n",
       "       [  0,   0,   0,   0,   0,   0,   0,   0,   0,   9,  75, 253, 252,\n",
       "        221, 137, 137,  21,   0,   0,   0,   0,   0,   0,   0,   0,   0,\n",
       "          0,   0],\n",
       "       [  0,   0,   0,   0,   0,   0,   0,   0,   0,   0,   0,   0,   0,\n",
       "          0,   0,   0,   0,   0,   0,   0,   0,   0,   0,   0,   0,   0,\n",
       "          0,   0],\n",
       "       [  0,   0,   0,   0,   0,   0,   0,   0,   0,   0,   0,   0,   0,\n",
       "          0,   0,   0,   0,   0,   0,   0,   0,   0,   0,   0,   0,   0,\n",
       "          0,   0],\n",
       "       [  0,   0,   0,   0,   0,   0,   0,   0,   0,   0,   0,   0,   0,\n",
       "          0,   0,   0,   0,   0,   0,   0,   0,   0,   0,   0,   0,   0,\n",
       "          0,   0]], dtype=uint8)"
      ]
     },
     "execution_count": 4,
     "metadata": {},
     "output_type": "execute_result"
    }
   ],
   "source": [
    "#Let's just look at a particular example to see what is inside\n",
    "\n",
    "x_train[333]  ## Just a 28 x 28 numpy array of ints from 0 to 255"
   ]
  },
  {
   "cell_type": "code",
   "execution_count": 4,
   "metadata": {},
   "outputs": [
    {
     "data": {
      "text/plain": [
       "8"
      ]
     },
     "execution_count": 4,
     "metadata": {},
     "output_type": "execute_result"
    }
   ],
   "source": [
    "# What is the corresponding label in the training set?\n",
    "y_train[333]"
   ]
  },
  {
   "cell_type": "code",
   "execution_count": 5,
   "metadata": {},
   "outputs": [
    {
     "data": {
      "text/plain": [
       "<matplotlib.image.AxesImage at 0x2164aaa3d90>"
      ]
     },
     "execution_count": 5,
     "metadata": {},
     "output_type": "execute_result"
    },
    {
     "data": {
      "image/png": "[encoded data removed]",
      "text/plain": [
       "<Figure size 432x288 with 1 Axes>"
      ]
     },
     "metadata": {
      "needs_background": "light"
     },
     "output_type": "display_data"
    }
   ],
   "source": [
    "# Let's see what this image actually looks like\n",
    "\n",
    "plt.imshow(x_train[333], cmap='Greys_r')"
   ]
  },
  {
   "cell_type": "code",
   "execution_count": 6,
   "metadata": {},
   "outputs": [
    {
     "name": "stdout",
     "output_type": "stream",
     "text": [
      "(60000, 28, 28) train samples\n",
      "(10000, 28, 28) test samples\n"
     ]
    }
   ],
   "source": [
    "# this is the shape of the np.array x_train\n",
    "# it is 3 dimensional.\n",
    "print(x_train.shape, 'train samples')\n",
    "print(x_test.shape, 'test samples')"
   ]
  },
  {
   "cell_type": "code",
   "execution_count": 7,
   "metadata": {},
   "outputs": [],
   "source": [
    "## For our purposes, these images are just a vector of 784 inputs, so let's convert\n",
    "x_train = x_train.reshape(len(x_train), 28*28)\n",
    "x_test = x_test.reshape(len(x_test), 28*28)\n",
    "\n",
    "## Keras works with floats, so we must cast the numbers to floats\n",
    "x_train = x_train.astype('float32')\n",
    "x_test = x_test.astype('float32')\n",
    "\n",
    "## Normalize the inputs so they are between 0 and 1\n",
    "x_train /= 255\n",
    "x_test /= 255\n"
   ]
  },
  {
   "cell_type": "code",
   "execution_count": 8,
   "metadata": {},
   "outputs": [
    {
     "data": {
      "text/plain": [
       "array([0., 0., 0., 0., 0., 0., 0., 0., 1., 0.], dtype=float32)"
      ]
     },
     "execution_count": 8,
     "metadata": {},
     "output_type": "execute_result"
    }
   ],
   "source": [
    "# convert class vectors to binary class matrices\n",
    "num_classes = 10\n",
    "y_train = keras.utils.to_categorical(y_train, num_classes)\n",
    "y_test = keras.utils.to_categorical(y_test, num_classes)\n",
    "\n",
    "y_train[333]  # now the digit k is represented by a 1 in the kth entry (0-indexed) of the length 10 vector"
   ]
  },
  {
   "cell_type": "code",
   "execution_count": 9,
   "metadata": {},
   "outputs": [],
   "source": [
    "# We will build a model with two hidden layers of size 512\n",
    "# Fully connected inputs at each layer\n",
    "# We will use dropout of .2 to help regularize\n",
    "model_1 = Sequential()\n",
    "model_1.add(Dense(64, activation='relu', input_shape=(784,)))\n",
    "model_1.add(Dropout(0.2))\n",
    "model_1.add(Dense(64, activation='relu'))\n",
    "model_1.add(Dropout(0.2))\n",
    "model_1.add(Dense(10, activation='softmax'))"
   ]
  },
  {
   "cell_type": "code",
   "execution_count": 10,
   "metadata": {},
   "outputs": [
    {
     "name": "stdout",
     "output_type": "stream",
     "text": [
      "Model: \"sequential\"\n",
      "_________________________________________________________________\n",
      " Layer (type)                Output Shape              Param #   \n",
      "=================================================================\n",
      " dense (Dense)               (None, 64)                50240     \n",
      "                                                                 \n",
      " dropout (Dropout)           (None, 64)                0         \n",
      "                                                                 \n",
      " dense_1 (Dense)             (None, 64)                4160      \n",
      "                                                                 \n",
      " dropout_1 (Dropout)         (None, 64)                0         \n",
      "                                                                 \n",
      " dense_2 (Dense)             (None, 10)                650       \n",
      "                                                                 \n",
      "=================================================================\n",
      "Total params: 55050 (215.04 KB)\n",
      "Trainable params: 55050 (215.04 KB)\n",
      "Non-trainable params: 0 (0.00 Byte)\n",
      "_________________________________________________________________\n"
     ]
    }
   ],
   "source": [
    "## Note that this model has a LOT of parameters\n",
    "model_1.summary()"
   ]
  },
  {
   "cell_type": "code",
   "execution_count": 11,
   "metadata": {},
   "outputs": [
    {
     "name": "stderr",
     "output_type": "stream",
     "text": [
      "WARNING:absl:`lr` is deprecated in Keras optimizer, please use `learning_rate` or use the legacy optimizer, e.g.,tf.keras.optimizers.legacy.RMSprop.\n"
     ]
    }
   ],
   "source": [
    "# Let's compile the model\n",
    "learning_rate = .001\n",
    "model_1.compile(loss='categorical_crossentropy',\n",
    "              optimizer=RMSprop(lr=learning_rate),\n",
    "              metrics=['accuracy'])\n",
    "# note that `categorical cross entropy` is the natural generalization \n",
    "# of the loss function we had in binary classification case, to multi class case"
   ]
  },
  {
   "cell_type": "code",
   "execution_count": 12,
   "metadata": {},
   "outputs": [
    {
     "name": "stdout",
     "output_type": "stream",
     "text": [
      "Epoch 1/30\n",
      "469/469 [==============================] - 11s 16ms/step - loss: 0.5331 - accuracy: 0.8385 - val_loss: 0.2065 - val_accuracy: 0.9373\n",
      "Epoch 2/30\n",
      "469/469 [==============================] - 6s 14ms/step - loss: 0.2514 - accuracy: 0.9256 - val_loss: 0.1538 - val_accuracy: 0.9528\n",
      "Epoch 3/30\n",
      "469/469 [==============================] - 9s 20ms/step - loss: 0.1997 - accuracy: 0.9405 - val_loss: 0.1403 - val_accuracy: 0.9565\n",
      "Epoch 4/30\n",
      "469/469 [==============================] - 8s 18ms/step - loss: 0.1716 - accuracy: 0.9488 - val_loss: 0.1208 - val_accuracy: 0.9640\n",
      "Epoch 5/30\n",
      "469/469 [==============================] - 10s 20ms/step - loss: 0.1547 - accuracy: 0.9542 - val_loss: 0.1112 - val_accuracy: 0.9680\n",
      "Epoch 6/30\n",
      "469/469 [==============================] - 7s 15ms/step - loss: 0.1436 - accuracy: 0.9571 - val_loss: 0.1027 - val_accuracy: 0.9696\n",
      "Epoch 7/30\n",
      "469/469 [==============================] - 8s 16ms/step - loss: 0.1337 - accuracy: 0.9596 - val_loss: 0.0998 - val_accuracy: 0.9699\n",
      "Epoch 8/30\n",
      "469/469 [==============================] - 8s 18ms/step - loss: 0.1270 - accuracy: 0.9619 - val_loss: 0.0961 - val_accuracy: 0.9708\n",
      "Epoch 9/30\n",
      "469/469 [==============================] - 9s 19ms/step - loss: 0.1220 - accuracy: 0.9637 - val_loss: 0.1029 - val_accuracy: 0.9693\n",
      "Epoch 10/30\n",
      "469/469 [==============================] - 8s 18ms/step - loss: 0.1148 - accuracy: 0.9652 - val_loss: 0.0968 - val_accuracy: 0.9711\n",
      "Epoch 11/30\n",
      "469/469 [==============================] - 6s 12ms/step - loss: 0.1131 - accuracy: 0.9662 - val_loss: 0.0979 - val_accuracy: 0.9725\n",
      "Epoch 12/30\n",
      "469/469 [==============================] - 8s 18ms/step - loss: 0.1080 - accuracy: 0.9682 - val_loss: 0.0983 - val_accuracy: 0.9718\n",
      "Epoch 13/30\n",
      "469/469 [==============================] - 7s 15ms/step - loss: 0.1054 - accuracy: 0.9677 - val_loss: 0.0935 - val_accuracy: 0.9732\n",
      "Epoch 14/30\n",
      "469/469 [==============================] - 5s 11ms/step - loss: 0.1035 - accuracy: 0.9691 - val_loss: 0.0935 - val_accuracy: 0.9749\n",
      "Epoch 15/30\n",
      "469/469 [==============================] - 5s 11ms/step - loss: 0.0990 - accuracy: 0.9700 - val_loss: 0.0940 - val_accuracy: 0.9740\n",
      "Epoch 16/30\n",
      "469/469 [==============================] - 6s 14ms/step - loss: 0.0972 - accuracy: 0.9704 - val_loss: 0.0944 - val_accuracy: 0.9730\n",
      "Epoch 17/30\n",
      "469/469 [==============================] - 8s 16ms/step - loss: 0.0958 - accuracy: 0.9711 - val_loss: 0.0966 - val_accuracy: 0.9734\n",
      "Epoch 18/30\n",
      "469/469 [==============================] - 8s 16ms/step - loss: 0.0923 - accuracy: 0.9718 - val_loss: 0.0998 - val_accuracy: 0.9740\n",
      "Epoch 19/30\n",
      "469/469 [==============================] - 6s 12ms/step - loss: 0.0919 - accuracy: 0.9725 - val_loss: 0.0960 - val_accuracy: 0.9739\n",
      "Epoch 20/30\n",
      "469/469 [==============================] - 9s 19ms/step - loss: 0.0883 - accuracy: 0.9733 - val_loss: 0.0977 - val_accuracy: 0.9750\n",
      "Epoch 21/30\n",
      "469/469 [==============================] - 7s 14ms/step - loss: 0.0874 - accuracy: 0.9741 - val_loss: 0.0906 - val_accuracy: 0.9749\n",
      "Epoch 22/30\n",
      "469/469 [==============================] - 10s 21ms/step - loss: 0.0853 - accuracy: 0.9744 - val_loss: 0.0941 - val_accuracy: 0.9750\n",
      "Epoch 23/30\n",
      "469/469 [==============================] - 10s 20ms/step - loss: 0.0829 - accuracy: 0.9750 - val_loss: 0.0959 - val_accuracy: 0.9750\n",
      "Epoch 24/30\n",
      "469/469 [==============================] - 9s 20ms/step - loss: 0.0838 - accuracy: 0.9743 - val_loss: 0.0990 - val_accuracy: 0.9753\n",
      "Epoch 25/30\n",
      "469/469 [==============================] - 7s 15ms/step - loss: 0.0807 - accuracy: 0.9750 - val_loss: 0.0994 - val_accuracy: 0.9743\n",
      "Epoch 26/30\n",
      "469/469 [==============================] - 6s 13ms/step - loss: 0.0809 - accuracy: 0.9752 - val_loss: 0.0957 - val_accuracy: 0.9759\n",
      "Epoch 27/30\n",
      "469/469 [==============================] - 9s 20ms/step - loss: 0.0792 - accuracy: 0.9760 - val_loss: 0.0983 - val_accuracy: 0.9740\n",
      "Epoch 28/30\n",
      "469/469 [==============================] - 8s 18ms/step - loss: 0.0772 - accuracy: 0.9765 - val_loss: 0.0976 - val_accuracy: 0.9759\n",
      "Epoch 29/30\n",
      "469/469 [==============================] - 8s 17ms/step - loss: 0.0781 - accuracy: 0.9765 - val_loss: 0.1025 - val_accuracy: 0.9756\n",
      "Epoch 30/30\n",
      "469/469 [==============================] - 8s 18ms/step - loss: 0.0767 - accuracy: 0.9773 - val_loss: 0.0994 - val_accuracy: 0.9763\n"
     ]
    }
   ],
   "source": [
    "# And now let's fit.\n",
    "\n",
    "batch_size = 128  # mini-batch with 128 examples\n",
    "epochs = 30\n",
    "history = model_1.fit(\n",
    "    x_train, y_train,\n",
    "    batch_size=batch_size,\n",
    "    epochs=epochs,\n",
    "    verbose=1,\n",
    "    validation_data=(x_test, y_test))"
   ]
  },
  {
   "cell_type": "code",
   "execution_count": 14,
   "metadata": {},
   "outputs": [
    {
     "name": "stdout",
     "output_type": "stream",
     "text": [
      "Test loss: 0.10473678261041641\n",
      "Test accuracy: 0.974399983882904\n"
     ]
    }
   ],
   "source": [
    "## We will use Keras evaluate function to evaluate performance on the test set\n",
    "\n",
    "score = model_1.evaluate(x_test, y_test, verbose=0)\n",
    "print('Test loss:', score[0])\n",
    "print('Test accuracy:', score[1])"
   ]
  },
  {
   "cell_type": "code",
   "execution_count": 20,
   "metadata": {},
   "outputs": [
    {
     "data": {
      "image/png": "[encoded data removed]",
      "text/plain": [
       "<Figure size 864x432 with 2 Axes>"
      ]
     },
     "metadata": {
      "needs_background": "light"
     },
     "output_type": "display_data"
    }
   ],
   "source": [
    "def plot_loss_accuracy(history):\n",
    "    fig = plt.figure(figsize=(12, 6))\n",
    "    ax = fig.add_subplot(1, 2, 1)\n",
    "    ax.plot(history.history[\"loss\"],'r-x', label=\"Train Loss\")\n",
    "    ax.plot(history.history[\"val_loss\"],'b-x', label=\"Validation Loss\")\n",
    "    ax.legend()\n",
    "    ax.set_title('cross_entropy loss')\n",
    "    ax.grid(True)\n",
    "\n",
    "\n",
    "    ax = fig.add_subplot(1, 2, 2)\n",
    "    ax.plot(history.history[\"accuracy\"],'r-x', label=\"Train Accuracy\")\n",
    "    ax.plot(history.history[\"val_accuracy\"],'b-x', label=\"Validation Accuracy\")\n",
    "    ax.legend()\n",
    "    ax.set_title('accuracy')\n",
    "    ax.grid(True)\n",
    "    \n",
    "\n",
    "plot_loss_accuracy(history)"
   ]
  },
  {
   "cell_type": "markdown",
   "metadata": {},
   "source": [
    "This is reasonably good performance, but we can do even better!  Next you will build an even bigger network and compare the performance."
   ]
  },
  {
   "cell_type": "markdown",
   "metadata": {},
   "source": [
    "## Exercise\n",
    "### Your Turn: Build your own model\n",
    "Use the Keras \"Sequential\" functionality to build `model_2` with the following specifications:\n",
    "\n",
    "1. Two hidden layers.\n",
    "2. First hidden layer of size 400 and second of size 300\n",
    "3. Dropout of .4 at each layer\n",
    "4. How many parameters does your model have?  How does it compare with the previous model?\n",
    "4. Train this model for 20 epochs with RMSProp at a learning rate of .001 and a batch size of 128\n",
    "\n",
    "\n"
   ]
  },
  {
   "cell_type": "code",
   "execution_count": 13,
   "metadata": {},
   "outputs": [
    {
     "name": "stdout",
     "output_type": "stream",
     "text": [
      "Model: \"sequential_1\"\n",
      "_________________________________________________________________\n",
      " Layer (type)                Output Shape              Param #   \n",
      "=================================================================\n",
      " dense_3 (Dense)             (None, 400)               314000    \n",
      "                                                                 \n",
      " dropout_2 (Dropout)         (None, 400)               0         \n",
      "                                                                 \n",
      " dense_4 (Dense)             (None, 300)               120300    \n",
      "                                                                 \n",
      " dropout_3 (Dropout)         (None, 300)               0         \n",
      "                                                                 \n",
      " dense_5 (Dense)             (None, 10)                3010      \n",
      "                                                                 \n",
      "=================================================================\n",
      "Total params: 437310 (1.67 MB)\n",
      "Trainable params: 437310 (1.67 MB)\n",
      "Non-trainable params: 0 (0.00 Byte)\n",
      "_________________________________________________________________\n"
     ]
    }
   ],
   "source": [
    "### Build your model here\n",
    "\n",
    "model_2 = Sequential([\n",
    "    Dense(400,  activation='relu', input_shape=(784,)),\n",
    "    Dropout(0.4),\n",
    "    Dense(300, activation='relu' ),\n",
    "    Dropout(0.4),\n",
    "    Dense(10, activation = \"softmax\")\n",
    "])\n",
    "\n",
    "model_2.summary()\n"
   ]
  },
  {
   "cell_type": "markdown",
   "metadata": {},
   "source": [
    "- Total de Parametros: 437310; Deve-se ater com a capacidade de generalização do modelo, mesmo que este possa possuir grau o suficiente para treinar em dados mais complexos. "
   ]
  },
  {
   "cell_type": "code",
   "execution_count": 14,
   "metadata": {},
   "outputs": [],
   "source": [
    "model_2.compile(RMSprop(learning_rate=0.001), loss='categorical_crossentropy', metrics=['accuracy'])"
   ]
  },
  {
   "cell_type": "code",
   "execution_count": 15,
   "metadata": {},
   "outputs": [
    {
     "name": "stdout",
     "output_type": "stream",
     "text": [
      "Epoch 1/20\n",
      "469/469 [==============================] - 28s 41ms/step - loss: 0.3281 - accuracy: 0.8989 - val_loss: 0.1408 - val_accuracy: 0.9587\n",
      "Epoch 2/20\n",
      "469/469 [==============================] - 16s 34ms/step - loss: 0.1515 - accuracy: 0.9547 - val_loss: 0.0931 - val_accuracy: 0.9711\n",
      "Epoch 3/20\n",
      "469/469 [==============================] - 19s 40ms/step - loss: 0.1176 - accuracy: 0.9655 - val_loss: 0.0844 - val_accuracy: 0.9748\n",
      "Epoch 4/20\n",
      "469/469 [==============================] - 23s 50ms/step - loss: 0.1000 - accuracy: 0.9704 - val_loss: 0.0747 - val_accuracy: 0.9775\n",
      "Epoch 5/20\n",
      "469/469 [==============================] - 24s 51ms/step - loss: 0.0870 - accuracy: 0.9742 - val_loss: 0.0680 - val_accuracy: 0.9812\n",
      "Epoch 6/20\n",
      "469/469 [==============================] - 20s 42ms/step - loss: 0.0790 - accuracy: 0.9764 - val_loss: 0.0677 - val_accuracy: 0.9808\n",
      "Epoch 7/20\n",
      "469/469 [==============================] - 13s 28ms/step - loss: 0.0719 - accuracy: 0.9787 - val_loss: 0.0735 - val_accuracy: 0.9801\n",
      "Epoch 8/20\n",
      "469/469 [==============================] - 16s 34ms/step - loss: 0.0664 - accuracy: 0.9797 - val_loss: 0.0800 - val_accuracy: 0.9804\n",
      "Epoch 9/20\n",
      "469/469 [==============================] - 15s 31ms/step - loss: 0.0621 - accuracy: 0.9816 - val_loss: 0.0724 - val_accuracy: 0.9823\n",
      "Epoch 10/20\n",
      "469/469 [==============================] - 17s 35ms/step - loss: 0.0565 - accuracy: 0.9829 - val_loss: 0.0616 - val_accuracy: 0.9841\n",
      "Epoch 11/20\n",
      "469/469 [==============================] - 14s 29ms/step - loss: 0.0556 - accuracy: 0.9835 - val_loss: 0.0669 - val_accuracy: 0.9839\n",
      "Epoch 12/20\n",
      "469/469 [==============================] - 12s 26ms/step - loss: 0.0521 - accuracy: 0.9847 - val_loss: 0.0717 - val_accuracy: 0.9835\n",
      "Epoch 13/20\n",
      "469/469 [==============================] - 15s 32ms/step - loss: 0.0501 - accuracy: 0.9848 - val_loss: 0.0662 - val_accuracy: 0.9846\n",
      "Epoch 14/20\n",
      "469/469 [==============================] - 14s 29ms/step - loss: 0.0462 - accuracy: 0.9859 - val_loss: 0.0773 - val_accuracy: 0.9817\n",
      "Epoch 15/20\n",
      "469/469 [==============================] - 14s 30ms/step - loss: 0.0459 - accuracy: 0.9865 - val_loss: 0.0683 - val_accuracy: 0.9846\n",
      "Epoch 16/20\n",
      "469/469 [==============================] - 14s 29ms/step - loss: 0.0410 - accuracy: 0.9878 - val_loss: 0.0716 - val_accuracy: 0.9829\n",
      "Epoch 17/20\n",
      "469/469 [==============================] - 13s 29ms/step - loss: 0.0425 - accuracy: 0.9874 - val_loss: 0.0784 - val_accuracy: 0.9834\n",
      "Epoch 18/20\n",
      "469/469 [==============================] - 13s 28ms/step - loss: 0.0429 - accuracy: 0.9872 - val_loss: 0.0757 - val_accuracy: 0.9840\n",
      "Epoch 19/20\n",
      "469/469 [==============================] - 13s 28ms/step - loss: 0.0372 - accuracy: 0.9889 - val_loss: 0.0778 - val_accuracy: 0.9824\n",
      "Epoch 20/20\n",
      "469/469 [==============================] - 13s 28ms/step - loss: 0.0402 - accuracy: 0.9887 - val_loss: 0.0722 - val_accuracy: 0.9839\n"
     ]
    }
   ],
   "source": [
    "history_2 = model_2.fit(\n",
    "    x_train, y_train,\n",
    "    batch_size=128,\n",
    "    epochs=20,\n",
    "    verbose=1,\n",
    "    validation_data=(x_test, y_test)\n",
    ")"
   ]
  },
  {
   "cell_type": "code",
   "execution_count": 21,
   "metadata": {},
   "outputs": [
    {
     "data": {
      "image/png": "[encoded data removed]",
      "text/plain": [
       "<Figure size 864x432 with 2 Axes>"
      ]
     },
     "metadata": {
      "needs_background": "light"
     },
     "output_type": "display_data"
    }
   ],
   "source": [
    "plot_loss_accuracy(history_2)"
   ]
  },
  {
   "cell_type": "markdown",
   "metadata": {
    "collapsed": true
   },
   "source": [
    "## Think about the following questions\n",
    "\n",
    "1) How do model_1 and model_2 compare? Which do you prefer? If you were going to put one into production, which would you choose and why?\n",
    "\n",
    "2) Compare the trajectories of the loss function on the training set and test set for each model? How do they compare? What does that suggest about each model? Do the same for accuracy? Which do you think is more meaningful, the loss or the accuracy?\n",
    "\n",
    "3) Suggest an improvement to one of the models (changing structure, learning rate, number of epochs, etc.) that you think will result in a better model. Try it out below? Did it improve the performance?"
   ]
  },
  {
   "cell_type": "markdown",
   "metadata": {},
   "source": [
    "**Answers**\n",
    "1. Both Model_1 and Model_2 exhibit low error rates and high accuracy, which are desirable characteristics in a model. However, Model_2 has a higher number of parameters. This aspect can be both advantageous or detrimental, depending on the model's ability to generalize effectively to unseen data. In this case, Model_2 slightly outperforms Model_1, showing higher accuracy and lower error. This suggests that the additional parameters allow Model_2 to capture more complex patterns in the data. Based on these results, Model_2 is preferred, especially if the generalization capacity is validated through further testing. Its superior performance makes it a better candidate for production deployment. However, additional experiments are recommended to ensure robustness.\n",
    "\n",
    "2. When analyzing the trajectory of the loss function (cross-entropy loss) for both the training and test sets in Model_1, it becomes evident that overfitting begins to occur after the 19th epoch. This is observed in the loss graph, where the training loss continues to decrease, but the test loss either stabilizes or starts to increase. Interestingly, this behavior is not immediately apparent in the accuracy graph, as the accuracy remains relatively stable or shows minor fluctuations.\n",
    "\n",
    "\tThis indicates that the loss function provides a more reliable signal for identifying when the training process should be halted. While accuracy is an essential metric for overall model evaluation, it can sometimes mask subtle issues like overfitting. Therefore, monitoring the loss function is critical for determining the optimal stopping point during training.\n",
    "\n",
    "3. To improve one of the models, several changes can be considered. For instance, adjusting the learning rate could lead to smoother convergence and avoid overshooting the minimum of the loss function. Regularization techniques, such as L2 regularization or adding dropout layers, may also help reduce overfitting by constraining the complexity of the patterns learned by the model. Another effective strategy is implementing early stopping based on the validation loss, ensuring that training halts precisely when overfitting begins, thus preserving the model's generalization ability.\n",
    "\n",
    "\tAlso, extending the number of epochs for Model_2 could leverage its superior capacity to learn complex patterns, potentially improving its performance further. Finally, if applicable, augmenting the training dataset could enhance the generalization capabilities of both models by introducing more diverse data points. Once these adjustments are implemented, their effectiveness can be evaluated by analyzing changes in the loss and accuracy metrics, focusing on improvements in test set performance and reductions in overfitting."
   ]
  },
  {
   "cell_type": "code",
   "execution_count": 16,
   "metadata": {},
   "outputs": [
    {
     "name": "stdout",
     "output_type": "stream",
     "text": [
      "Model: \"sequential_2\"\n",
      "_________________________________________________________________\n",
      " Layer (type)                Output Shape              Param #   \n",
      "=================================================================\n",
      " dense_6 (Dense)             (None, 128)               100480    \n",
      "                                                                 \n",
      " dropout_4 (Dropout)         (None, 128)               0         \n",
      "                                                                 \n",
      " dense_7 (Dense)             (None, 64)                8256      \n",
      "                                                                 \n",
      " dropout_5 (Dropout)         (None, 64)                0         \n",
      "                                                                 \n",
      " dense_8 (Dense)             (None, 128)               8320      \n",
      "                                                                 \n",
      " dropout_6 (Dropout)         (None, 128)               0         \n",
      "                                                                 \n",
      " dense_9 (Dense)             (None, 10)                1290      \n",
      "                                                                 \n",
      "=================================================================\n",
      "Total params: 118346 (462.29 KB)\n",
      "Trainable params: 118346 (462.29 KB)\n",
      "Non-trainable params: 0 (0.00 Byte)\n",
      "_________________________________________________________________\n"
     ]
    }
   ],
   "source": [
    "model_3 = Sequential([\n",
    "    Dense(128, activation='relu', input_shape=(784,)),\n",
    "    Dropout(0.2),\n",
    "    Dense(64, activation='relu' ),\n",
    "    Dropout(0.2),\n",
    "    Dense(128, activation='relu' ),\n",
    "    Dropout(0.2),\n",
    "    Dense(10, activation = \"softmax\")\n",
    "])\n",
    "\n",
    "model_3.summary()"
   ]
  },
  {
   "cell_type": "code",
   "execution_count": null,
   "metadata": {},
   "outputs": [
    {
     "name": "stdout",
     "output_type": "stream",
     "text": [
      "Epoch 1/30\n",
      "469/469 [==============================] - 15s 19ms/step - loss: 0.4527 - accuracy: 0.8595 - val_loss: 0.1587 - val_accuracy: 0.9505\n",
      "Epoch 2/30\n",
      "469/469 [==============================] - 7s 16ms/step - loss: 0.2024 - accuracy: 0.9406 - val_loss: 0.1159 - val_accuracy: 0.9651\n",
      "Epoch 3/30\n",
      "469/469 [==============================] - 6s 13ms/step - loss: 0.1538 - accuracy: 0.9557 - val_loss: 0.1015 - val_accuracy: 0.9676\n",
      "Epoch 4/30\n",
      "469/469 [==============================] - 7s 15ms/step - loss: 0.1308 - accuracy: 0.9622 - val_loss: 0.1025 - val_accuracy: 0.9694\n",
      "Epoch 5/30\n",
      "469/469 [==============================] - 8s 16ms/step - loss: 0.1153 - accuracy: 0.9670 - val_loss: 0.0924 - val_accuracy: 0.9736\n",
      "Epoch 6/30\n",
      "469/469 [==============================] - 6s 14ms/step - loss: 0.1058 - accuracy: 0.9697 - val_loss: 0.0941 - val_accuracy: 0.9730\n",
      "Epoch 7/30\n",
      "469/469 [==============================] - 6s 14ms/step - loss: 0.0946 - accuracy: 0.9721 - val_loss: 0.0786 - val_accuracy: 0.9767\n",
      "Epoch 8/30\n",
      "469/469 [==============================] - 6s 12ms/step - loss: 0.0894 - accuracy: 0.9740 - val_loss: 0.0797 - val_accuracy: 0.9771\n",
      "Epoch 9/30\n",
      "469/469 [==============================] - 6s 14ms/step - loss: 0.0840 - accuracy: 0.9746 - val_loss: 0.0799 - val_accuracy: 0.9770\n",
      "Epoch 10/30\n",
      "469/469 [==============================] - 6s 13ms/step - loss: 0.0771 - accuracy: 0.9773 - val_loss: 0.0815 - val_accuracy: 0.9781\n",
      "Epoch 11/30\n",
      "469/469 [==============================] - 6s 14ms/step - loss: 0.0749 - accuracy: 0.9782 - val_loss: 0.0901 - val_accuracy: 0.9760\n",
      "Epoch 12/30\n",
      "469/469 [==============================] - 6s 13ms/step - loss: 0.0709 - accuracy: 0.9793 - val_loss: 0.0795 - val_accuracy: 0.9790\n",
      "Epoch 13/30\n",
      "469/469 [==============================] - 5s 12ms/step - loss: 0.0688 - accuracy: 0.9800 - val_loss: 0.0784 - val_accuracy: 0.9800\n",
      "Epoch 14/30\n",
      "469/469 [==============================] - 4s 8ms/step - loss: 0.0669 - accuracy: 0.9804 - val_loss: 0.0780 - val_accuracy: 0.9793\n",
      "Epoch 15/30\n",
      "469/469 [==============================] - 6s 13ms/step - loss: 0.0629 - accuracy: 0.9822 - val_loss: 0.0858 - val_accuracy: 0.9791\n",
      "Epoch 16/30\n",
      "469/469 [==============================] - 7s 14ms/step - loss: 0.0609 - accuracy: 0.9824 - val_loss: 0.0823 - val_accuracy: 0.9813\n",
      "Epoch 17/30\n",
      "469/469 [==============================] - 6s 14ms/step - loss: 0.0612 - accuracy: 0.9825 - val_loss: 0.0871 - val_accuracy: 0.9790\n",
      "Epoch 18/30\n",
      "469/469 [==============================] - 7s 14ms/step - loss: 0.0616 - accuracy: 0.9822 - val_loss: 0.0882 - val_accuracy: 0.9793\n",
      "Epoch 19/30\n",
      "469/469 [==============================] - 8s 17ms/step - loss: 0.0559 - accuracy: 0.9841 - val_loss: 0.0896 - val_accuracy: 0.9796\n",
      "Epoch 20/30\n",
      "469/469 [==============================] - 5s 11ms/step - loss: 0.0562 - accuracy: 0.9839 - val_loss: 0.0850 - val_accuracy: 0.9799\n",
      "Epoch 21/30\n",
      "469/469 [==============================] - 12s 25ms/step - loss: 0.0539 - accuracy: 0.9845 - val_loss: 0.0891 - val_accuracy: 0.9798\n",
      "Epoch 22/30\n",
      "469/469 [==============================] - 10s 22ms/step - loss: 0.0547 - accuracy: 0.9847 - val_loss: 0.0930 - val_accuracy: 0.9802\n",
      "Epoch 23/30\n",
      "469/469 [==============================] - 11s 23ms/step - loss: 0.0508 - accuracy: 0.9855 - val_loss: 0.0949 - val_accuracy: 0.9805\n",
      "Epoch 24/30\n",
      "469/469 [==============================] - 9s 19ms/step - loss: 0.0507 - accuracy: 0.9855 - val_loss: 0.0924 - val_accuracy: 0.9810\n",
      "Epoch 25/30\n",
      "469/469 [==============================] - 7s 15ms/step - loss: 0.0496 - accuracy: 0.9855 - val_loss: 0.0966 - val_accuracy: 0.9797\n",
      "Epoch 26/30\n",
      "469/469 [==============================] - 7s 16ms/step - loss: 0.0504 - accuracy: 0.9856 - val_loss: 0.1040 - val_accuracy: 0.9799\n",
      "Epoch 27/30\n",
      "469/469 [==============================] - 11s 24ms/step - loss: 0.0482 - accuracy: 0.9856 - val_loss: 0.0920 - val_accuracy: 0.9812\n",
      "Epoch 28/30\n",
      "469/469 [==============================] - 10s 22ms/step - loss: 0.0473 - accuracy: 0.9862 - val_loss: 0.1015 - val_accuracy: 0.9794\n",
      "Epoch 29/30\n",
      "469/469 [==============================] - 7s 14ms/step - loss: 0.0484 - accuracy: 0.9860 - val_loss: 0.0945 - val_accuracy: 0.9802\n",
      "Epoch 30/30\n",
      "469/469 [==============================] - 7s 14ms/step - loss: 0.0468 - accuracy: 0.9863 - val_loss: 0.0990 - val_accuracy: 0.9779\n"
     ]
    },
    {
     "ename": "NameError",
     "evalue": "name 'plot_loss_accuracy' is not defined",
     "output_type": "error",
     "traceback": [
      "\u001b[1;31m---------------------------------------------------------------------------\u001b[0m",
      "\u001b[1;31mNameError\u001b[0m                                 Traceback (most recent call last)",
      "Input \u001b[1;32mIn [18]\u001b[0m, in \u001b[0;36m<cell line: 3>\u001b[1;34m()\u001b[0m\n\u001b[0;32m      1\u001b[0m model_3\u001b[38;5;241m.\u001b[39mcompile(RMSprop(learning_rate \u001b[38;5;241m=\u001b[39m \u001b[38;5;241m0.001\u001b[39m), \u001b[38;5;124m\"\u001b[39m\u001b[38;5;124mcategorical_crossentropy\u001b[39m\u001b[38;5;124m\"\u001b[39m, metrics\u001b[38;5;241m=\u001b[39m[\u001b[38;5;124m\"\u001b[39m\u001b[38;5;124maccuracy\u001b[39m\u001b[38;5;124m\"\u001b[39m])\n\u001b[0;32m      2\u001b[0m history_3 \u001b[38;5;241m=\u001b[39m model_3\u001b[38;5;241m.\u001b[39mfit(x_train, y_train, batch_size\u001b[38;5;241m=\u001b[39m\u001b[38;5;241m128\u001b[39m, epochs\u001b[38;5;241m=\u001b[39m\u001b[38;5;241m30\u001b[39m, verbose \u001b[38;5;241m=\u001b[39m \u001b[38;5;241m1\u001b[39m, validation_data\u001b[38;5;241m=\u001b[39m(x_test, y_test))\n\u001b[1;32m----> 3\u001b[0m \u001b[43mplot_loss_accuracy\u001b[49m(history_3)\n",
      "\u001b[1;31mNameError\u001b[0m: name 'plot_loss_accuracy' is not defined"
     ]
    }
   ],
   "source": [
    "model_3.compile(RMSprop(learning_rate = 0.001), \"categorical_crossentropy\", metrics=[\"accuracy\"])\n",
    "history_3 = model_3.fit(x_train, y_train, batch_size=128, epochs=30, verbose = 1, validation_data=(x_test, y_test))"
   ]
  },
  {
   "cell_type": "markdown",
   "metadata": {},
   "source": [
    "*ignore error, just compile above*"
   ]
  },
  {
   "cell_type": "code",
   "execution_count": 22,
   "metadata": {},
   "outputs": [
    {
     "data": {
      "image/png": "[encoded data removed]",
      "text/plain": [
       "<Figure size 864x432 with 2 Axes>"
      ]
     },
     "metadata": {
      "needs_background": "light"
     },
     "output_type": "display_data"
    }
   ],
   "source": [
    "plot_loss_accuracy(history_3)"
   ]
  },
  {
   "cell_type": "markdown",
   "metadata": {},
   "source": [
    "**Comment**\n",
    "In this new model, changes were made to the neural network structure, adopting a convolutional style. This change resulted in an architecture with a reduced number of parameters compared to model 2. Despite this reduction, the new model managed to achieve a validation accuracy similar to that obtained by model 2, maintaining a good balance between performance and efficiency. In addition, the model presented a higher training accuracy than model 1, demonstrating its ability to learn more effectively on training data without compromising its generalization."
   ]
  }
 ],
 "metadata": {
  "kernelspec": {
   "display_name": "Python 3",
   "language": "python",
   "name": "python3"
  },
  "language_info": {
   "codemirror_mode": {
    "name": "ipython",
    "version": 3
   },
   "file_extension": ".py",
   "mimetype": "text/x-python",
   "name": "python",
   "nbconvert_exporter": "python",
   "pygments_lexer": "ipython3",
   "version": "3.10.5"
  }
 },
 "nbformat": 4,
 "nbformat_minor": 1
}
