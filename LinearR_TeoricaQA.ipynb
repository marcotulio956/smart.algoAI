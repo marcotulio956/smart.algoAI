{
 "cells": [
  {
   "cell_type": "markdown",
   "id": "13ae1612",
   "metadata": {},
   "source": [
    "# LIC - 2. Tarefa Teórica sobre Regressão Linear com uma Variável\n",
    "\n",
    "## Marco Túlio S. M. \n",
    "### 20193007156"
   ]
  },
  {
   "cell_type": "markdown",
   "id": "90896e18",
   "metadata": {},
   "source": [
    "- ### O que é chamada de regressão logística?\n",
    "\tÉ nada mais que um algoritimo de minimização, em que há uma função custo de erro a ser minimizada pertecente a um modelo estatistico em que a combinação linear de variaveis(independentes) consegue predizer, atrávez de um refinamento supervisionado dos coêficientes do polinômio que descreve o sistema(hipótese), a saída pode ser numerica ou em duas classes como, por exemplo, pertencente ou não percente, verdadeiro ou falso. A saída de classificação é realizado com base na definição de cortes da sigmoide(i.e função lógistica) de saída. O funcionamento interno durante o treinamento relaciona as váriaveis de entrada dadas à uma saída e realiza um ajuste, quanto maior a independencia dessas variáveis mais preciso é indicar a correspondencia da saída às categorias predefinidas.\n",
    "\t \n",
    "- ### Quais são as técnicas utilizadas no treinamento semi-supervisionado?\n",
    "\tCombina-se uma pequena quantidade de dados rotulados, isto é, com resposta, com uma grande quantidade de dados não rotulados(evita overfitting) na espectativa de melhorar a performance das predições no momento em que este classificara dados inéditos, ou seja, as variáveis de entrada rotuladas orientam o aprendizado inicial, enquanto as não rotuladas permitem expandir a generalização.\n",
    "\t\n",
    "- ### Quais são as técnicas utilizadas no treinamento por reforço?\n",
    "\tA escolha do método mais adequado certamente depende das características específicas do problema, das técnicas vistas podemos listar:\n",
    "\t\n",
    "\t-- Gradiente Descendente:  Realiza-se ajustes incrementais no coeficiente do modelo com base na diferença entre a previsão e o valor real. Em um contexto de reforço, cada ajuste que reduz o erro gera uma recompensa proporcional(incremento no coeficiente). Dessa forma, algoritimo ajusta o coeficiente na direção que maximiza a redução do erro, e isso \"caminha\" o vetor até um ponto de erro minímo convergindo em uma solução(valor ótimo de coeficiente).\n",
    "\n",
    "\t-- Gradiente Estocástico:  O ajuste dos parâmetros ocorre para cada amostra individual do conjunto de dados. Em vez de calcular o gradiente em relação a todos os dados, ele usa uma única amostra aleatória por vez, fazendo ajustes mais frequentes e rápidos nos parâmetros, o que tras a vantagem de rapidez, especialmente em conjuntos de dados grandes, pois cada passo de ajuste exige menos recursos de memória e processamento. Além disso, ele pode escapar de mínimos locais graças às oscilações nas atualizações, potencialmente alcançando um mínimo global em problemas em que sua superficie de solução é mais complexa. No entanto, uma desvantagem está na elevada variação entre os ajustes, que pode resultar em oscilações e, portanto, dificultar a convergência para um mínimo estável, especialmente mais próximo da solução ótima.\n",
    "\n",
    "- ### Explique a diferença entre Sum of Squared Error (SSE) e Total Sum of Squares (TSS).\n",
    "\tSSE e TSS são métricas utilizadas em regressão para avaliar o ajuste do modelo aos dados. A SSE mede o erro residual, ou seja, a soma dos quadrados das diferenças entre os valores observados e os valores previstos pelo modelo. Quanto menor a SSE, melhor o ajuste. Já a TSS representa a variabilidade total dos dados em relação à média global. TSS é composto pela soma do erro residual do SSE e da soma da variância explicada pelo modelo, conhecida como Regression Sum of Squares (RSS). Assim, TSS ajuda a medir a precisão do modelo, pois permite avaliar a proporção da variação total dos dados que é explicada pelo modelo em comparação com o erro residual."
   ]
  }
 ],
 "metadata": {
  "kernelspec": {
   "display_name": "Python 3 (ipykernel)",
   "language": "python",
   "name": "python3"
  },
  "language_info": {
   "codemirror_mode": {
    "name": "ipython",
    "version": 3
   },
   "file_extension": ".py",
   "mimetype": "text/x-python",
   "name": "python",
   "nbconvert_exporter": "python",
   "pygments_lexer": "ipython3",
   "version": "3.10.5"
  }
 },
 "nbformat": 4,
 "nbformat_minor": 5
}
