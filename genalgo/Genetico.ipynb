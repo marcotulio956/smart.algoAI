{
 "cells": [
  {
   "cell_type": "markdown",
   "id": "fd8421b6",
   "metadata": {},
   "source": [
    "# Lab. IA - Genético"
   ]
  },
  {
   "cell_type": "code",
   "execution_count": 1,
   "id": "e3c11367",
   "metadata": {},
   "outputs": [],
   "source": [
    "import numpy as np\n",
    "import matplotlib as plt\n",
    "import math\n",
    "import random\n",
    "import matplotlib.pyplot as plt_graph\n",
    "plt_graph.rcParams['font.size'] = 12"
   ]
  },
  {
   "cell_type": "code",
   "execution_count": 2,
   "id": "9cf6c8d9",
   "metadata": {},
   "outputs": [],
   "source": [
    "Offset_funcao = 200"
   ]
  },
  {
   "cell_type": "code",
   "execution_count": 3,
   "id": "09125e7f",
   "metadata": {},
   "outputs": [],
   "source": [
    "# Retirando o offset de +200 somado á função objetivo (devido a negatividade do resultado e do calculo de aptidão)\n",
    "def removeOffset(resultados):\n",
    "    for idx, elemento in enumerate(resultados):\n",
    "        resultados[idx] = elemento - Offset_funcao\n",
    "    return resultados"
   ]
  },
  {
   "cell_type": "code",
   "execution_count": 4,
   "id": "6520b71f",
   "metadata": {},
   "outputs": [],
   "source": [
    "def objetivo(x, y):\n",
    "    f1 = np.sin(x) * np.power(np.e, np.power(1 - np.cos(y), 2))\n",
    "    f2 = np.cos(y) * np.power(np.e, np.power(1 - np.sin(x), 2))\n",
    "    f3 = np.power((x-y), 2)\n",
    "    funcao = (f1 + f2 + f3 + Offset_funcao)\n",
    "    return funcao"
   ]
  },
  {
   "cell_type": "code",
   "execution_count": 5,
   "id": "9fb1e2f2",
   "metadata": {},
   "outputs": [],
   "source": [
    "def comparar(item):\n",
    "   return item[1], item[0]"
   ]
  },
  {
   "cell_type": "code",
   "execution_count": 6,
   "id": "943b969e",
   "metadata": {},
   "outputs": [],
   "source": [
    "def initPopulacao(x_dominio, y_dominio, populacao_tam):\n",
    "    pop = []\n",
    "    for i in range(populacao_tam):\n",
    "        x = random.randrange(x_dominio[0],x_dominio[1])\n",
    "        y = random.randrange(y_dominio[0],y_dominio[1])\n",
    "        pop.append([x,y])\n",
    "    return pop"
   ]
  },
  {
   "cell_type": "code",
   "execution_count": 7,
   "id": "e383f51d",
   "metadata": {},
   "outputs": [],
   "source": [
    "def aptidao(tamanho, posicao):\n",
    "    return (0 + (100 - 0)) * ((tamanho - posicao) /  (tamanho - 1)) "
   ]
  },
  {
   "cell_type": "code",
   "execution_count": 8,
   "id": "c6c73257",
   "metadata": {},
   "outputs": [],
   "source": [
    "def cruzamento(pais, cruzamento_tx):\n",
    "    alpha = random.randrange(0, 100) / 100 \n",
    "    random_cruzamento = random.randrange(0, 100)\n",
    "    if random_cruzamento < cruzamento_tx:\n",
    "        filhos = []\n",
    "        x = alpha * pais[0][0] + (1 - alpha)*pais[1][0]\n",
    "        y = alpha * pais[1][1] + (1 - alpha)*pais[0][1]\n",
    "        filhos.append([x, y])\n",
    "        x = alpha * pais[0][0] + (1 - alpha)*pais[1][0]\n",
    "        y = alpha * pais[1][1] + (1 - alpha)*pais[0][1]\n",
    "        filhos.append([x, y])\n",
    "        return filhos\n",
    "    else:\n",
    "        return pais"
   ]
  },
  {
   "cell_type": "code",
   "execution_count": 9,
   "id": "6cd3f007",
   "metadata": {},
   "outputs": [],
   "source": [
    "def mutacao(individuo, mutacao_tx):\n",
    "    alelo_mutacao_tx = random.randrange(0, 100)\n",
    "    random_mutacao = random.randrange(0, 100)\n",
    "    random_alelo = random.randrange(0, 100) \n",
    "    idx = 0\n",
    "    if random_mutacao < mutacao_tx:\n",
    "        for alelo in individuo:\n",
    "            if random_alelo < alelo_mutacao_tx:\n",
    "                random_busca = random.randrange(-100, 100) / 100\n",
    "                alelo =  alelo + alelo * random_busca\n",
    "                individuo[idx] = alelo\n",
    "            idx += 1\n",
    "    return individuo"
   ]
  },
  {
   "cell_type": "code",
   "execution_count": 10,
   "id": "15e238aa",
   "metadata": {},
   "outputs": [],
   "source": [
    "def roleta(fx):\n",
    "    aptidao_total = sum(fx)\n",
    "    selecao_aleatoria = []\n",
    "    selecao_aleatoria.append(random.randrange(0, np.ceil(aptidao_total)))\n",
    "    selecao_aleatoria.append(random.randrange(0, np.ceil(aptidao_total)))                                      \n",
    "    selecionado = []; idx_selecionado = []; k = 0\n",
    "    for i in range(len(fx)):\n",
    "        if(selecao_aleatoria[0] < sum(fx[:i+1]) and (k != 1)):\n",
    "            selecionado.append(fx[i])\n",
    "            idx_selecionado.append(i)\n",
    "            k += 1\n",
    "        if(selecao_aleatoria[1] < sum(fx[:i+1])):\n",
    "            selecionado.append(fx[i])\n",
    "            idx_selecionado.append(i)\n",
    "            k += 1\n",
    "        if(k == 2):\n",
    "            break\n",
    "    return idx_selecionado    "
   ]
  },
  {
   "cell_type": "code",
   "execution_count": 16,
   "id": "aba1e13d",
   "metadata": {},
   "outputs": [],
   "source": [
    "# Iniciando população e definindo taxas de cruzamento e mutação\n",
    "populacao = initPopulacao([-10,10], [-10,10], 100)\n",
    "cruzamento_tx = 80; mutacao_tx = 10 # Valores em %"
   ]
  },
  {
   "cell_type": "code",
   "execution_count": 17,
   "id": "4a1413dd",
   "metadata": {},
   "outputs": [
    {
     "name": "stdout",
     "output_type": "stream",
     "text": [
      "Geração atual: 1 ============================================================================ \n",
      "Valor função: 37.96523765180231\n",
      "Individuo: [5, 7]\n",
      "Valor função: 2.2144289729222066\n",
      "Individuo: [6, 8]\n",
      "Valor função: -69.54332004942216\n",
      "Individuo: [-1, -3]\n",
      "Geração atual: 2 ============================================================================ \n",
      "Valor função: -79.7529019825631\n",
      "Individuo: [-7.6499999999999995, -3.3499999999999996]\n",
      "Valor função: -84.54531926658845\n",
      "Individuo: [-7.72, -3.28]\n",
      "Geração atual: 3 ============================================================================ \n",
      "Geração atual: 4 ============================================================================ \n",
      "Geração atual: 5 ============================================================================ \n",
      "Geração atual: 6 ============================================================================ \n",
      "Valor função: -85.20626942511687\n",
      "Individuo: [-1.2767009999999994, -3.409999]\n",
      "Valor função: -88.98432742980773\n",
      "Individuo: [-1.7472865599999992, -2.785144320000001]\n",
      "Geração atual: 7 ============================================================================ \n",
      "Valor função: -104.12177207086762\n",
      "Individuo: [-1.6343460255999993, -3.2600338768]\n",
      "Valor função: -106.55663979907229\n",
      "Individuo: [-1.5449347691999993, -3.1413114876000003]\n",
      "Geração atual: 8 ============================================================================ \n",
      "Geração atual: 9 ============================================================================ \n",
      "Geração atual: 10 ============================================================================ \n",
      "Geração atual: 11 ============================================================================ \n",
      "Geração atual: 12 ============================================================================ \n",
      "Geração atual: 13 ============================================================================ \n",
      "Geração atual: 14 ============================================================================ \n",
      "Geração atual: 15 ============================================================================ \n",
      "Geração atual: 16 ============================================================================ \n",
      "Geração atual: 17 ============================================================================ \n",
      "Geração atual: 18 ============================================================================ \n",
      "Geração atual: 19 ============================================================================ \n",
      "Geração atual: 20 ============================================================================ \n",
      "Geração atual: 21 ============================================================================ \n",
      "Geração atual: 22 ============================================================================ \n",
      "Geração atual: 23 ============================================================================ \n",
      "Geração atual: 24 ============================================================================ \n",
      "Geração atual: 25 ============================================================================ \n",
      "Geração atual: 26 ============================================================================ \n",
      "Geração atual: 27 ============================================================================ \n"
     ]
    }
   ],
   "source": [
    "# Calculo da funcao objetivo para cada individuo ###############################\n",
    "cromossomos = []; condicao_parada = 0\n",
    "melhor = []; melhor_geracao = []; melhor_x_y = []; \n",
    "pior_geracao = []; media_geracao = []\n",
    "\n",
    "for i in range(0, 100):\n",
    "    print(\"Geração atual: \" + str(i + 1) + \" ============================================================================ \")\n",
    "    geracao_atual = i\n",
    "    #print(\" * Populacao inicio: \" + str(populacao))\n",
    "    for idx, indiv in enumerate(populacao):\n",
    "        indiv_x = indiv[0]; indiv_y = indiv[1]\n",
    "        valor_funcao = objetivo(indiv_x, indiv_y)\n",
    "        if len(melhor) == 0 or valor_funcao < min(melhor):\n",
    "            print(\"Valor função: \" + str(valor_funcao - Offset_funcao))\n",
    "            print(\"Individuo: \" + str(indiv))\n",
    "            melhor.append(valor_funcao)\n",
    "            melhor_x_y.append(indiv)\n",
    "            condicao_parada = 0\n",
    "        if idx == 0:\n",
    "            melhor_geracao.append(valor_funcao)\n",
    "            pior_geracao.append(valor_funcao)\n",
    "        elif valor_funcao < melhor_geracao[geracao_atual]:\n",
    "            melhor_geracao[geracao_atual] = valor_funcao  \n",
    "        elif valor_funcao > pior_geracao[geracao_atual]:\n",
    "            pior_geracao[geracao_atual] = valor_funcao \n",
    "        cromossomos.append([idx, valor_funcao])\n",
    "    #print(\"\\nCromossomos: \" + str(cromossomos))\n",
    "    \n",
    "    # Media do melhor e pior valor da geração atual:\n",
    "    media = ((pior_geracao[geracao_atual] - Offset_funcao) + (melhor_geracao[geracao_atual] - Offset_funcao))/2\n",
    "    media_geracao.append(media)\n",
    "    \n",
    "    # Condição de parada antes de 100 gerações -> Não encontrou um valor menor que o melhor valor nas ultimas 20 gerações\n",
    "    if melhor_geracao[geracao_atual] > min(melhor):\n",
    "        condicao_parada += 1\n",
    "        \n",
    "    if condicao_parada == 20:\n",
    "        break\n",
    "        \n",
    "    # Calculo da aptidão de cada individuo ########################################\n",
    "    ranking = []; ranking = cromossomos\n",
    "    ranking = sorted(cromossomos, key = comparar)\n",
    "    #print(\"Ranking: \" + str(ranking))\n",
    "\n",
    "    fx = []\n",
    "    for idx, valor in enumerate(ranking):\n",
    "        fx.append(aptidao(len(ranking), idx))\n",
    "    #print(\"Aptidões: \" + str(fx))\n",
    "\n",
    "    # Roleta dos individuos selecionados ###########################################\n",
    "    #print(\"Cromossomos: \" + str(cromossomos))\n",
    "    populacao_prox_gen = []\n",
    "    for i in range(0, int(len(populacao)/2)):\n",
    "        selecionados_cruzamento = roleta(fx)\n",
    "        #print(\"Roleta: \" + str(selecionados_cruzamento))\n",
    "        idx1_populacao = ranking[selecionados_cruzamento[0]][0]\n",
    "        indiv1_populacao = populacao[idx1_populacao]\n",
    "        idx2_populacao = ranking[selecionados_cruzamento[1]][0]\n",
    "        indiv2_populacao = populacao[idx2_populacao]\n",
    "\n",
    "        # Cruzamento dos individuos selecionados ########################################\n",
    "        pais = []; pais.append(indiv1_populacao); pais.append(indiv2_populacao)\n",
    "        filhos = cruzamento(pais, cruzamento_tx) \n",
    "        # Mutação dos individuos selecionados ###########################################\n",
    "        filhos[0] = mutacao(filhos[0], mutacao_tx)\n",
    "        filhos[1] = mutacao(filhos[1], mutacao_tx)\n",
    "        populacao_prox_gen.append(filhos[0])\n",
    "        populacao_prox_gen.append(filhos[1])\n",
    "        #print(populacao_prox_gen)\n",
    "    populacao = populacao_prox_gen\n",
    "    #print(\"\\n* População fim: \" + str(populacao) + \"\\n\\n\")\n",
    "#print(\"\\n\\n Geração final: \" + str(populacao))"
   ]
  },
  {
   "cell_type": "code",
   "execution_count": 18,
   "id": "23138281",
   "metadata": {},
   "outputs": [],
   "source": [
    "melhor_geracao = removeOffset(melhor_geracao)\n",
    "pior_geracao = removeOffset(pior_geracao)\n",
    "melhor = removeOffset(melhor)"
   ]
  },
  {
   "cell_type": "code",
   "execution_count": 37,
   "id": "4a8dc3c5",
   "metadata": {},
   "outputs": [
    {
     "name": "stdout",
     "output_type": "stream",
     "text": [
      "\n",
      "Melhor resultado geral: -106.55663979907229\n",
      "Melhor X e Y: [-1.5449347691999993, -3.1413114876000003]\n",
      "* O melhor resultado foi obtido na geração: 7\n"
     ]
    }
   ],
   "source": [
    "print(\"\\nMelhor resultado geral: \" + str(min(melhor)))\n",
    "print(\"Melhor X e Y: \" + str(melhor_x_y[len(melhor) - 1]))\n",
    "print(\"* O melhor resultado foi obtido na geração: \" + str(melhor_geracao.index(min(melhor)) + 1))"
   ]
  },
  {
   "cell_type": "code",
   "execution_count": 41,
   "id": "324c4d34",
   "metadata": {},
   "outputs": [
    {
     "data": {
      "image/png": "[encoded data removed]",
      "text/plain": [
       "<Figure size 720x360 with 1 Axes>"
      ]
     },
     "metadata": {
      "needs_background": "light"
     },
     "output_type": "display_data"
    }
   ],
   "source": [
    "x_melhor = range(0, len(melhor_geracao))\n",
    "y_melhor = melhor_geracao\n",
    "\n",
    "x_pior = x_melhor\n",
    "y_pior = pior_geracao\n",
    "\n",
    "x_media = x_pior\n",
    "y_media = media_geracao\n",
    "\n",
    "plt_graph.figure(figsize=(10, 5))\n",
    "plt_graph.title(\"Desempenho (Verde - Melhor Resultado) (Vermelho - Pior Resultado) (Preto - Media dos resultados)\")\n",
    "plt_graph.plot(x_melhor, y_melhor, markersize = 6, color = \"green\", linewidth = 2)\n",
    "plt_graph.plot(x_pior, y_pior, markersize = 6, color = \"red\", linewidth = 2)\n",
    "plt_graph.plot(x_media, y_media, markersize = 6, color = \"black\", linewidth = 2)\n",
    "plt_graph.grid(True)\n",
    "plt_graph.show()"
   ]
  }
 ],
 "metadata": {
  "kernelspec": {
   "display_name": "Python 3.10.5 64-bit",
   "language": "python",
   "name": "python3"
  },
  "language_info": {
   "codemirror_mode": {
    "name": "ipython",
    "version": 3
   },
   "file_extension": ".py",
   "mimetype": "text/x-python",
   "name": "python",
   "nbconvert_exporter": "python",
   "pygments_lexer": "ipython3",
   "version": "3.10.5"
  },
  "vscode": {
   "interpreter": {
    "hash": "bebf9730dc43cfbc35fb329a82a69476f49cde6de038a2bbfc26f12404ad85fb"
   }
  }
 },
 "nbformat": 4,
 "nbformat_minor": 5
}
