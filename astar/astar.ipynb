{
 "cells": [
  {
   "cell_type": "markdown",
   "metadata": {},
   "source": [
    "## A* Algorithm"
   ]
  },
  {
   "cell_type": "markdown",
   "metadata": {},
   "source": [
    "Heurísticas e distâncias reais representadas por matrizes de adjacencias nos arquivos /data/heuristics.csv e /data/real-distances.csv"
   ]
  },
  {
   "cell_type": "markdown",
   "metadata": {},
   "source": [
    "#### Distâncias"
   ]
  },
  {
   "cell_type": "markdown",
   "metadata": {},
   "source": [
    "![d](img/distances.png \"Distâncias\")"
   ]
  },
  {
   "cell_type": "markdown",
   "metadata": {},
   "source": [
    "#### Heurísticas"
   ]
  },
  {
   "cell_type": "markdown",
   "metadata": {},
   "source": [
    "![h](img/heuristics.png \"Heurísticas\")"
   ]
  },
  {
   "cell_type": "code",
   "execution_count": 1,
   "metadata": {},
   "outputs": [],
   "source": [
    "import csv "
   ]
  },
  {
   "cell_type": "code",
   "execution_count": 2,
   "metadata": {},
   "outputs": [
    {
     "name": "stdout",
     "output_type": "stream",
     "text": [
      "H: \n",
      "[['0.', '10.', '18.5', '24.8', '36.4', '38.8', '35.8', '25.4', '17.6', '9.1', '16.7', '27.3', '27.6', '29.8'], ['10.', '0.', '8.5', '14.8', '26.6', '29.1', '26.1', '17.3', '10.', '3.5', '15.5', '20.9', '19.1', '21.8'], ['18.5', '8.5', '0.', '6.3', '18.2', '20.6', '17.6', '13.6', '9.4', '10.3', '19.5', '19.1', '12.1', '16.6'], ['24.8', '14.8', '6.3', '0.', '12.', '14.4', '11.5', '12.4', '12.6', '16.7', '23.6', '18.6', '10.6', '15.4'], ['36.4', '26.6', '18.2', '12.', '0.', '3.', '2.4', '19.4', '23.3', '28.2', '34.2', '24.8', '14.5', '17.9'], ['38.8', '29.1', '20.6', '14.4', '3.', '0.', '3.3', '22.3', '25.7', '30.3', '36.7', '27.6', '15.2', '18.2'], ['35.8', '26.1', '17.6', '11.5', '2.4', '3.3', '0.', '20.', '23.', '27.3', '34.2', '25.7', '12.4', '15.6'], ['25.4', '17.3', '13.6', '12.4', '19.4', '22.3', '20.', '0.', '8.2', '20.3', '16.1', '6.4', '22.7', '27.6'], ['17.6', '10.', '9.4', '12.6', '23.3', '25.7', '23.', '8.2', '0.', '13.5', '11.2', '10.9', '21.2', '26.6'], ['9.1', '3.5', '10.3', '16.7', '28.2', '30.3', '27.3', '20.3', '13.5', '0.', '17.6', '24.2', '18.7', '21.2'], ['16.7', '15.5', '19.5', '23.6', '34.2', '36.7', '34.2', '16.1', '11.2', '17.6', '0.', '14.2', '31.5', '35.5'], ['27.3', '20.9', '19.1', '18.6', '24.8', '27.6', '25.7', '6.4', '10.9', '24.2', '14.2', '0.', '28.8', '33.6'], ['27.6', '19.1', '12.1', '10.6', '14.5', '15.2', '12.4', '22.7', '21.2', '18.7', '31.5', '28.8', '0.', '5.1'], ['29.8', '21.8', '16.6', '15.4', '17.9', '18.2', '15.6', '27.6', '26.6', '21.2', '35.5', '33.6', '5.1', '0.']]\n"
     ]
    }
   ],
   "source": [
    "csvh = open(\"data/heuristics.csv\")\n",
    "grid = list(csv.reader(csvh))\n",
    "# print(f\"H: \\n{grid}\""
   ]
  },
  {
   "cell_type": "code",
   "execution_count": 3,
   "metadata": {},
   "outputs": [
    {
     "name": "stdout",
     "output_type": "stream",
     "text": [
      "D: \n",
      "[['0.', '10.', '0.', '0.', '0.', '0.', '0.', '0.', '0.', '0.', '0.', '0.', '0.', '0.'], ['10.', '0.', '8.5', '0.', '0.', '0.', '0.', '0.', '10.', '3.5', '0.', '0.', '0.', '0.'], ['0.', '8.5', '0.', '6.3', '0.', '0.', '0.', '0.', '9.4', '0.', '0.', '0.', '18.7', '0.'], ['0.', '0.', '6.3', '0.', '13.', '0.', '0.', '15.3', '0.', '0.', '0.', '0.', '12.8', '0.'], ['0.', '0.', '0.', '13.', '0.', '3', '2.4', '30.', '0.', '0.', '0.', '0.', '0.', '0.'], ['0.', '0.', '0.', '0.', '3', '0.', '0.', '0.', '0.', '0.', '0.', '0.', '0.', '0.'], ['0.', '0.', '0.', '0.', '2.4', '0.', '0.', '0.', '0.', '0.', '0.', '0.', '0.', '0.'], ['0.', '0.', '0.', '15.3', '30.', '0.', '0.', '0.', '9.6', '0.', '0.', '6.4', '0.', '0.'], ['0.', '10.', '9.4', '0.', '0.', '0.', '0.', '9.6', '0.', '0.', '12.2', '0.', '0.', '0.'], ['0.', '3.5', '0.', '0.', '0.', '0.', '0.', '0.', '0.', '0.', '0.', '0.', '0.', '0.'], ['0.', '0.', '0.', '0.', '0.', '0.', '0.', '0.', '12.2', '0.', '0.', '0.', '0.', '0.'], ['0.', '0.', '0.', '0.', '0.', '0.', '0.', '6.4', '0.', '0.', '0.', '0.', '0.', '0.'], ['0.', '0.', '18.7', '12.8', '0.', '0.', '0.', '0.', '0.', '0.', '0.', '0.', '0.', '5.1'], ['0.', '0.', '0.', '0.', '0.', '0.', '0.', '0.', '0.', '0.', '0.', '0.', '5.1', '0.']]\n"
     ]
    }
   ],
   "source": [
    "csvd = open(\"data/real-distances.csv\")\n",
    "grid = list(csv.reader(csvd))\n",
    "# print(f\"D: \\n{grid}\")"
   ]
  },
  {
   "cell_type": "markdown",
   "metadata": {},
   "source": [
    "Objetivo E6 -> E13"
   ]
  },
  {
   "cell_type": "code",
   "execution_count": 4,
   "metadata": {},
   "outputs": [
    {
     "name": "stdout",
     "output_type": "stream",
     "text": [
      "Objective: From 6 to 13\n"
     ]
    }
   ],
   "source": [
    "start_at = 6\n",
    "end_at = 13"
   ]
  },
  {
   "cell_type": "markdown",
   "metadata": {},
   "source": [
    "Resolução"
   ]
  },
  {
   "cell_type": "code",
   "execution_count": 5,
   "metadata": {},
   "outputs": [
    {
     "ename": "TypeError",
     "evalue": "'_io.TextIOWrapper' object is not subscriptable",
     "output_type": "error",
     "traceback": [
      "\u001b[1;31m---------------------------------------------------------------------------\u001b[0m",
      "\u001b[1;31mTypeError\u001b[0m                                 Traceback (most recent call last)",
      "\u001b[1;32mc:\\Users\\Mark\\Documents\\MEGAsync\\CEFET\\Semestre7\\lia\\astar\\astar.ipynb Zelle 9\u001b[0m in \u001b[0;36m<cell line: 3>\u001b[1;34m()\u001b[0m\n\u001b[0;32m      <a href='vscode-notebook-cell:/c%3A/Users/Mark/Documents/MEGAsync/CEFET/Semestre7/lia/astar/astar.ipynb#X13sZmlsZQ%3D%3D?line=0'>1</a>\u001b[0m \u001b[39mimport\u001b[39;00m \u001b[39mastar\u001b[39;00m\n\u001b[1;32m----> <a href='vscode-notebook-cell:/c%3A/Users/Mark/Documents/MEGAsync/CEFET/Semestre7/lia/astar/astar.ipynb#X13sZmlsZQ%3D%3D?line=2'>3</a>\u001b[0m astar\u001b[39m.\u001b[39;49msolve(start_at, end_at, csvh, csvd)\n",
      "File \u001b[1;32mc:\\Users\\Mark\\Documents\\MEGAsync\\CEFET\\Semestre7\\lia\\astar\\astar.py:27\u001b[0m, in \u001b[0;36msolve\u001b[1;34m(start, end, heuristics, distances)\u001b[0m\n\u001b[0;32m     26\u001b[0m \u001b[39mdef\u001b[39;00m \u001b[39msolve\u001b[39m(start, end, heuristics, distances):\n\u001b[1;32m---> 27\u001b[0m \texpand(distances, start)\n",
      "File \u001b[1;32mc:\\Users\\Mark\\Documents\\MEGAsync\\CEFET\\Semestre7\\lia\\astar\\astar.py:3\u001b[0m, in \u001b[0;36mexpand\u001b[1;34m(grid, at)\u001b[0m\n\u001b[0;32m      1\u001b[0m \u001b[39mdef\u001b[39;00m \u001b[39mexpand\u001b[39m(grid, at):\n\u001b[0;32m      2\u001b[0m \tdistances \u001b[39m=\u001b[39m []\n\u001b[1;32m----> 3\u001b[0m \tdistances\u001b[39m.\u001b[39mappend(grid[at\u001b[39m-\u001b[39;49m\u001b[39m1\u001b[39;49m][at\u001b[39m-\u001b[39m\u001b[39m1\u001b[39m])\n\u001b[0;32m      4\u001b[0m \tdistances\u001b[39m.\u001b[39mappend(grid[at\u001b[39m-\u001b[39m\u001b[39m1\u001b[39m][at])\n\u001b[0;32m      5\u001b[0m \tdistances\u001b[39m.\u001b[39mappend(grid[at\u001b[39m-\u001b[39m\u001b[39m1\u001b[39m][at\u001b[39m+\u001b[39m\u001b[39m1\u001b[39m])\n",
      "\u001b[1;31mTypeError\u001b[0m: '_io.TextIOWrapper' object is not subscriptable"
     ]
    }
   ],
   "source": [
    "import astar\n",
    "\n",
    "astar.solve(start_at, end_at, csvh, csvd)"
   ]
  }
 ],
 "metadata": {
  "kernelspec": {
   "display_name": "Python 3.10.5 64-bit",
   "language": "python",
   "name": "python3"
  },
  "language_info": {
   "codemirror_mode": {
    "name": "ipython",
    "version": 3
   },
   "file_extension": ".py",
   "mimetype": "text/x-python",
   "name": "python",
   "nbconvert_exporter": "python",
   "pygments_lexer": "ipython3",
   "version": "3.10.5"
  },
  "orig_nbformat": 4,
  "vscode": {
   "interpreter": {
    "hash": "bebf9730dc43cfbc35fb329a82a69476f49cde6de038a2bbfc26f12404ad85fb"
   }
  }
 },
 "nbformat": 4,
 "nbformat_minor": 2
}
