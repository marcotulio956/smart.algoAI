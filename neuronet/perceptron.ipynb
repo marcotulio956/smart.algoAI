{
 "cells": [
  {
   "cell_type": "markdown",
   "id": "f4a01d77",
   "metadata": {},
   "source": [
    "# Lab. de IA - Redes Neurais: Perceptron"
   ]
  },
  {
   "cell_type": "markdown",
   "id": "b4177489",
   "metadata": {},
   "source": [
    "# Pre-processamento dos dados"
   ]
  },
  {
   "cell_type": "code",
   "execution_count": 1,
   "id": "2b470903",
   "metadata": {},
   "outputs": [],
   "source": [
    "import pandas as pd\n",
    "import numpy as np\n",
    "import matplotlib.pyplot as plt\n",
    "plt.rcParams[\"figure.autolayout\"] = True"
   ]
  },
  {
   "cell_type": "code",
   "execution_count": 2,
   "id": "f7dd3d40",
   "metadata": {},
   "outputs": [],
   "source": [
    "# Abrindo o arquivo de dados e iniciando o dataframe\n",
    "header = [\"Incidencia Pélvica\", \"Inclinação Pélvica\", \"Ângulo da Lordose Lombar\", \"Inclinação Sacral\", \"Raio Pélvico\", \"Grau de Espondilolistese\", \"Saída\"]\n",
    "file = \"./data/column_3C.dat\"\n",
    "data_frame = pd.read_csv(file, sep = ' ', header = None)\n",
    "data_frame.columns = header"
   ]
  },
  {
   "cell_type": "code",
   "execution_count": 3,
   "id": "86852232",
   "metadata": {},
   "outputs": [],
   "source": [
    "# Criando uma coluna de saída binária para cada tipo de saída\n",
    "data_frame['NO'] = np.where(data_frame['Saída'] == 'NO', 1, 0)\n",
    "data_frame['SL'] = np.where(data_frame['Saída'] == 'SL', 1, 0)\n",
    "data_frame['DH'] = np.where(data_frame['Saída'] == 'DH', 1, 0)"
   ]
  },
  {
   "cell_type": "code",
   "execution_count": 4,
   "id": "438584e7",
   "metadata": {},
   "outputs": [
    {
     "data": {
      "text/html": [
       "<div>\n",
       "<style scoped>\n",
       "    .dataframe tbody tr th:only-of-type {\n",
       "        vertical-align: middle;\n",
       "    }\n",
       "\n",
       "    .dataframe tbody tr th {\n",
       "        vertical-align: top;\n",
       "    }\n",
       "\n",
       "    .dataframe thead th {\n",
       "        text-align: right;\n",
       "    }\n",
       "</style>\n",
       "<table border=\"1\" class=\"dataframe\">\n",
       "  <thead>\n",
       "    <tr style=\"text-align: right;\">\n",
       "      <th></th>\n",
       "      <th>Incidencia Pélvica</th>\n",
       "      <th>Inclinação Pélvica</th>\n",
       "      <th>Ângulo da Lordose Lombar</th>\n",
       "      <th>Inclinação Sacral</th>\n",
       "      <th>Raio Pélvico</th>\n",
       "      <th>Grau de Espondilolistese</th>\n",
       "      <th>Saída</th>\n",
       "      <th>NO</th>\n",
       "      <th>SL</th>\n",
       "      <th>DH</th>\n",
       "    </tr>\n",
       "  </thead>\n",
       "  <tbody>\n",
       "    <tr>\n",
       "      <th>0</th>\n",
       "      <td>63.03</td>\n",
       "      <td>22.55</td>\n",
       "      <td>39.61</td>\n",
       "      <td>40.48</td>\n",
       "      <td>98.67</td>\n",
       "      <td>-0.25</td>\n",
       "      <td>DH</td>\n",
       "      <td>0</td>\n",
       "      <td>0</td>\n",
       "      <td>1</td>\n",
       "    </tr>\n",
       "    <tr>\n",
       "      <th>1</th>\n",
       "      <td>39.06</td>\n",
       "      <td>10.06</td>\n",
       "      <td>25.02</td>\n",
       "      <td>29.00</td>\n",
       "      <td>114.41</td>\n",
       "      <td>4.56</td>\n",
       "      <td>DH</td>\n",
       "      <td>0</td>\n",
       "      <td>0</td>\n",
       "      <td>1</td>\n",
       "    </tr>\n",
       "    <tr>\n",
       "      <th>2</th>\n",
       "      <td>68.83</td>\n",
       "      <td>22.22</td>\n",
       "      <td>50.09</td>\n",
       "      <td>46.61</td>\n",
       "      <td>105.99</td>\n",
       "      <td>-3.53</td>\n",
       "      <td>DH</td>\n",
       "      <td>0</td>\n",
       "      <td>0</td>\n",
       "      <td>1</td>\n",
       "    </tr>\n",
       "    <tr>\n",
       "      <th>3</th>\n",
       "      <td>69.30</td>\n",
       "      <td>24.65</td>\n",
       "      <td>44.31</td>\n",
       "      <td>44.64</td>\n",
       "      <td>101.87</td>\n",
       "      <td>11.21</td>\n",
       "      <td>DH</td>\n",
       "      <td>0</td>\n",
       "      <td>0</td>\n",
       "      <td>1</td>\n",
       "    </tr>\n",
       "    <tr>\n",
       "      <th>4</th>\n",
       "      <td>49.71</td>\n",
       "      <td>9.65</td>\n",
       "      <td>28.32</td>\n",
       "      <td>40.06</td>\n",
       "      <td>108.17</td>\n",
       "      <td>7.92</td>\n",
       "      <td>DH</td>\n",
       "      <td>0</td>\n",
       "      <td>0</td>\n",
       "      <td>1</td>\n",
       "    </tr>\n",
       "    <tr>\n",
       "      <th>...</th>\n",
       "      <td>...</td>\n",
       "      <td>...</td>\n",
       "      <td>...</td>\n",
       "      <td>...</td>\n",
       "      <td>...</td>\n",
       "      <td>...</td>\n",
       "      <td>...</td>\n",
       "      <td>...</td>\n",
       "      <td>...</td>\n",
       "      <td>...</td>\n",
       "    </tr>\n",
       "    <tr>\n",
       "      <th>305</th>\n",
       "      <td>47.90</td>\n",
       "      <td>13.62</td>\n",
       "      <td>36.00</td>\n",
       "      <td>34.29</td>\n",
       "      <td>117.45</td>\n",
       "      <td>-4.25</td>\n",
       "      <td>NO</td>\n",
       "      <td>1</td>\n",
       "      <td>0</td>\n",
       "      <td>0</td>\n",
       "    </tr>\n",
       "    <tr>\n",
       "      <th>306</th>\n",
       "      <td>53.94</td>\n",
       "      <td>20.72</td>\n",
       "      <td>29.22</td>\n",
       "      <td>33.22</td>\n",
       "      <td>114.37</td>\n",
       "      <td>-0.42</td>\n",
       "      <td>NO</td>\n",
       "      <td>1</td>\n",
       "      <td>0</td>\n",
       "      <td>0</td>\n",
       "    </tr>\n",
       "    <tr>\n",
       "      <th>307</th>\n",
       "      <td>61.45</td>\n",
       "      <td>22.69</td>\n",
       "      <td>46.17</td>\n",
       "      <td>38.75</td>\n",
       "      <td>125.67</td>\n",
       "      <td>-2.71</td>\n",
       "      <td>NO</td>\n",
       "      <td>1</td>\n",
       "      <td>0</td>\n",
       "      <td>0</td>\n",
       "    </tr>\n",
       "    <tr>\n",
       "      <th>308</th>\n",
       "      <td>45.25</td>\n",
       "      <td>8.69</td>\n",
       "      <td>41.58</td>\n",
       "      <td>36.56</td>\n",
       "      <td>118.55</td>\n",
       "      <td>0.21</td>\n",
       "      <td>NO</td>\n",
       "      <td>1</td>\n",
       "      <td>0</td>\n",
       "      <td>0</td>\n",
       "    </tr>\n",
       "    <tr>\n",
       "      <th>309</th>\n",
       "      <td>33.84</td>\n",
       "      <td>5.07</td>\n",
       "      <td>36.64</td>\n",
       "      <td>28.77</td>\n",
       "      <td>123.95</td>\n",
       "      <td>-0.20</td>\n",
       "      <td>NO</td>\n",
       "      <td>1</td>\n",
       "      <td>0</td>\n",
       "      <td>0</td>\n",
       "    </tr>\n",
       "  </tbody>\n",
       "</table>\n",
       "<p>310 rows × 10 columns</p>\n",
       "</div>"
      ],
      "text/plain": [
       "     Incidencia Pélvica  Inclinação Pélvica  Ângulo da Lordose Lombar  \\\n",
       "0                 63.03               22.55                     39.61   \n",
       "1                 39.06               10.06                     25.02   \n",
       "2                 68.83               22.22                     50.09   \n",
       "3                 69.30               24.65                     44.31   \n",
       "4                 49.71                9.65                     28.32   \n",
       "..                  ...                 ...                       ...   \n",
       "305               47.90               13.62                     36.00   \n",
       "306               53.94               20.72                     29.22   \n",
       "307               61.45               22.69                     46.17   \n",
       "308               45.25                8.69                     41.58   \n",
       "309               33.84                5.07                     36.64   \n",
       "\n",
       "     Inclinação Sacral  Raio Pélvico  Grau de Espondilolistese Saída  NO  SL  \\\n",
       "0                40.48         98.67                     -0.25    DH   0   0   \n",
       "1                29.00        114.41                      4.56    DH   0   0   \n",
       "2                46.61        105.99                     -3.53    DH   0   0   \n",
       "3                44.64        101.87                     11.21    DH   0   0   \n",
       "4                40.06        108.17                      7.92    DH   0   0   \n",
       "..                 ...           ...                       ...   ...  ..  ..   \n",
       "305              34.29        117.45                     -4.25    NO   1   0   \n",
       "306              33.22        114.37                     -0.42    NO   1   0   \n",
       "307              38.75        125.67                     -2.71    NO   1   0   \n",
       "308              36.56        118.55                      0.21    NO   1   0   \n",
       "309              28.77        123.95                     -0.20    NO   1   0   \n",
       "\n",
       "     DH  \n",
       "0     1  \n",
       "1     1  \n",
       "2     1  \n",
       "3     1  \n",
       "4     1  \n",
       "..   ..  \n",
       "305   0  \n",
       "306   0  \n",
       "307   0  \n",
       "308   0  \n",
       "309   0  \n",
       "\n",
       "[310 rows x 10 columns]"
      ]
     },
     "execution_count": 4,
     "metadata": {},
     "output_type": "execute_result"
    }
   ],
   "source": [
    "# Imprimindo data frame atual\n",
    "data_frame"
   ]
  },
  {
   "cell_type": "code",
   "execution_count": 5,
   "id": "bf708a28",
   "metadata": {},
   "outputs": [],
   "source": [
    "# Separando dados para aprendizagem (70%) e dados para teste (30%)\n",
    "To_learn = 0.7\n",
    "To_test = 0.3\n",
    "\n",
    "DH_Outputs = (data_frame['Saída'] == 'DH').value_counts()\n",
    "SL_Outputs = (data_frame['Saída'] == 'SL').value_counts()\n",
    "NO_Outputs = (data_frame['Saída'] == 'NO').value_counts()\n",
    "\n",
    "DH_Learn = data_frame[data_frame['Saída'] == 'DH']\n",
    "DH_Learn = DH_Learn[0:int(DH_Outputs[True] * To_learn)]\n",
    "DH_Test = data_frame[data_frame['Saída'] == 'DH']\n",
    "DH_Test = DH_Test[int(DH_Outputs[True] * To_learn):DH_Outputs[True]]\n",
    "\n",
    "SL_Learn = data_frame[data_frame['Saída'] == 'SL']\n",
    "SL_Learn = SL_Learn[0:int(SL_Outputs[True] * To_learn)]\n",
    "SL_Test = data_frame[data_frame['Saída'] == 'SL']\n",
    "SL_Test = SL_Test[int(SL_Outputs[True] * To_learn):SL_Outputs[True]]\n",
    "\n",
    "NO_Learn = data_frame[data_frame['Saída'] == 'NO']\n",
    "NO_Learn = NO_Learn[0:int(NO_Outputs[True] * To_learn)]\n",
    "NO_Test = data_frame[data_frame['Saída'] == 'NO']\n",
    "NO_Test = NO_Test[int(NO_Outputs[True] * To_learn):NO_Outputs[True]]"
   ]
  },
  {
   "cell_type": "code",
   "execution_count": 6,
   "id": "8d7097a1",
   "metadata": {},
   "outputs": [
    {
     "data": {
      "text/html": [
       "<div>\n",
       "<style scoped>\n",
       "    .dataframe tbody tr th:only-of-type {\n",
       "        vertical-align: middle;\n",
       "    }\n",
       "\n",
       "    .dataframe tbody tr th {\n",
       "        vertical-align: top;\n",
       "    }\n",
       "\n",
       "    .dataframe thead th {\n",
       "        text-align: right;\n",
       "    }\n",
       "</style>\n",
       "<table border=\"1\" class=\"dataframe\">\n",
       "  <thead>\n",
       "    <tr style=\"text-align: right;\">\n",
       "      <th></th>\n",
       "      <th>Incidencia Pélvica</th>\n",
       "      <th>Inclinação Pélvica</th>\n",
       "      <th>Ângulo da Lordose Lombar</th>\n",
       "      <th>Inclinação Sacral</th>\n",
       "      <th>Raio Pélvico</th>\n",
       "      <th>Grau de Espondilolistese</th>\n",
       "      <th>Saída</th>\n",
       "      <th>NO</th>\n",
       "      <th>SL</th>\n",
       "      <th>DH</th>\n",
       "    </tr>\n",
       "  </thead>\n",
       "  <tbody>\n",
       "    <tr>\n",
       "      <th>263</th>\n",
       "      <td>33.79</td>\n",
       "      <td>3.68</td>\n",
       "      <td>25.50</td>\n",
       "      <td>30.11</td>\n",
       "      <td>128.33</td>\n",
       "      <td>-1.78</td>\n",
       "      <td>NO</td>\n",
       "      <td>1</td>\n",
       "      <td>0</td>\n",
       "      <td>0</td>\n",
       "    </tr>\n",
       "    <tr>\n",
       "      <th>245</th>\n",
       "      <td>47.81</td>\n",
       "      <td>10.69</td>\n",
       "      <td>54.00</td>\n",
       "      <td>37.12</td>\n",
       "      <td>125.39</td>\n",
       "      <td>-0.40</td>\n",
       "      <td>NO</td>\n",
       "      <td>1</td>\n",
       "      <td>0</td>\n",
       "      <td>0</td>\n",
       "    </tr>\n",
       "    <tr>\n",
       "      <th>134</th>\n",
       "      <td>52.20</td>\n",
       "      <td>17.21</td>\n",
       "      <td>78.09</td>\n",
       "      <td>34.99</td>\n",
       "      <td>136.97</td>\n",
       "      <td>54.94</td>\n",
       "      <td>SL</td>\n",
       "      <td>0</td>\n",
       "      <td>1</td>\n",
       "      <td>0</td>\n",
       "    </tr>\n",
       "    <tr>\n",
       "      <th>252</th>\n",
       "      <td>42.92</td>\n",
       "      <td>-5.85</td>\n",
       "      <td>58.00</td>\n",
       "      <td>48.76</td>\n",
       "      <td>121.61</td>\n",
       "      <td>-3.36</td>\n",
       "      <td>NO</td>\n",
       "      <td>1</td>\n",
       "      <td>0</td>\n",
       "      <td>0</td>\n",
       "    </tr>\n",
       "    <tr>\n",
       "      <th>22</th>\n",
       "      <td>63.07</td>\n",
       "      <td>24.41</td>\n",
       "      <td>54.00</td>\n",
       "      <td>38.66</td>\n",
       "      <td>106.42</td>\n",
       "      <td>15.78</td>\n",
       "      <td>DH</td>\n",
       "      <td>0</td>\n",
       "      <td>0</td>\n",
       "      <td>1</td>\n",
       "    </tr>\n",
       "    <tr>\n",
       "      <th>...</th>\n",
       "      <td>...</td>\n",
       "      <td>...</td>\n",
       "      <td>...</td>\n",
       "      <td>...</td>\n",
       "      <td>...</td>\n",
       "      <td>...</td>\n",
       "      <td>...</td>\n",
       "      <td>...</td>\n",
       "      <td>...</td>\n",
       "      <td>...</td>\n",
       "    </tr>\n",
       "    <tr>\n",
       "      <th>21</th>\n",
       "      <td>54.92</td>\n",
       "      <td>21.06</td>\n",
       "      <td>42.20</td>\n",
       "      <td>33.86</td>\n",
       "      <td>125.21</td>\n",
       "      <td>2.43</td>\n",
       "      <td>DH</td>\n",
       "      <td>0</td>\n",
       "      <td>0</td>\n",
       "      <td>1</td>\n",
       "    </tr>\n",
       "    <tr>\n",
       "      <th>13</th>\n",
       "      <td>53.57</td>\n",
       "      <td>20.46</td>\n",
       "      <td>33.10</td>\n",
       "      <td>33.11</td>\n",
       "      <td>110.97</td>\n",
       "      <td>7.04</td>\n",
       "      <td>DH</td>\n",
       "      <td>0</td>\n",
       "      <td>0</td>\n",
       "      <td>1</td>\n",
       "    </tr>\n",
       "    <tr>\n",
       "      <th>142</th>\n",
       "      <td>85.29</td>\n",
       "      <td>18.28</td>\n",
       "      <td>100.74</td>\n",
       "      <td>67.01</td>\n",
       "      <td>110.66</td>\n",
       "      <td>58.88</td>\n",
       "      <td>SL</td>\n",
       "      <td>0</td>\n",
       "      <td>1</td>\n",
       "      <td>0</td>\n",
       "    </tr>\n",
       "    <tr>\n",
       "      <th>277</th>\n",
       "      <td>65.76</td>\n",
       "      <td>13.21</td>\n",
       "      <td>44.00</td>\n",
       "      <td>52.55</td>\n",
       "      <td>129.39</td>\n",
       "      <td>-1.98</td>\n",
       "      <td>NO</td>\n",
       "      <td>1</td>\n",
       "      <td>0</td>\n",
       "      <td>0</td>\n",
       "    </tr>\n",
       "    <tr>\n",
       "      <th>16</th>\n",
       "      <td>63.83</td>\n",
       "      <td>20.36</td>\n",
       "      <td>54.55</td>\n",
       "      <td>43.47</td>\n",
       "      <td>112.31</td>\n",
       "      <td>-0.62</td>\n",
       "      <td>DH</td>\n",
       "      <td>0</td>\n",
       "      <td>0</td>\n",
       "      <td>1</td>\n",
       "    </tr>\n",
       "  </tbody>\n",
       "</table>\n",
       "<p>217 rows × 10 columns</p>\n",
       "</div>"
      ],
      "text/plain": [
       "     Incidencia Pélvica  Inclinação Pélvica  Ângulo da Lordose Lombar  \\\n",
       "263               33.79                3.68                     25.50   \n",
       "245               47.81               10.69                     54.00   \n",
       "134               52.20               17.21                     78.09   \n",
       "252               42.92               -5.85                     58.00   \n",
       "22                63.07               24.41                     54.00   \n",
       "..                  ...                 ...                       ...   \n",
       "21                54.92               21.06                     42.20   \n",
       "13                53.57               20.46                     33.10   \n",
       "142               85.29               18.28                    100.74   \n",
       "277               65.76               13.21                     44.00   \n",
       "16                63.83               20.36                     54.55   \n",
       "\n",
       "     Inclinação Sacral  Raio Pélvico  Grau de Espondilolistese Saída  NO  SL  \\\n",
       "263              30.11        128.33                     -1.78    NO   1   0   \n",
       "245              37.12        125.39                     -0.40    NO   1   0   \n",
       "134              34.99        136.97                     54.94    SL   0   1   \n",
       "252              48.76        121.61                     -3.36    NO   1   0   \n",
       "22               38.66        106.42                     15.78    DH   0   0   \n",
       "..                 ...           ...                       ...   ...  ..  ..   \n",
       "21               33.86        125.21                      2.43    DH   0   0   \n",
       "13               33.11        110.97                      7.04    DH   0   0   \n",
       "142              67.01        110.66                     58.88    SL   0   1   \n",
       "277              52.55        129.39                     -1.98    NO   1   0   \n",
       "16               43.47        112.31                     -0.62    DH   0   0   \n",
       "\n",
       "     DH  \n",
       "263   0  \n",
       "245   0  \n",
       "134   0  \n",
       "252   0  \n",
       "22    1  \n",
       "..   ..  \n",
       "21    1  \n",
       "13    1  \n",
       "142   0  \n",
       "277   0  \n",
       "16    1  \n",
       "\n",
       "[217 rows x 10 columns]"
      ]
     },
     "execution_count": 6,
     "metadata": {},
     "output_type": "execute_result"
    }
   ],
   "source": [
    "# Juntando todos os dados de aprendizagem e misturando-os\n",
    "df_Learn = [DH_Learn, SL_Learn, NO_Learn]\n",
    "df_Learn = pd.concat(df_Learn)\n",
    "df_Learn = df_Learn.sample(frac = 1)\n",
    "df_Learn"
   ]
  },
  {
   "cell_type": "code",
   "execution_count": 7,
   "id": "71fdbf82",
   "metadata": {},
   "outputs": [
    {
     "data": {
      "text/html": [
       "<div>\n",
       "<style scoped>\n",
       "    .dataframe tbody tr th:only-of-type {\n",
       "        vertical-align: middle;\n",
       "    }\n",
       "\n",
       "    .dataframe tbody tr th {\n",
       "        vertical-align: top;\n",
       "    }\n",
       "\n",
       "    .dataframe thead th {\n",
       "        text-align: right;\n",
       "    }\n",
       "</style>\n",
       "<table border=\"1\" class=\"dataframe\">\n",
       "  <thead>\n",
       "    <tr style=\"text-align: right;\">\n",
       "      <th></th>\n",
       "      <th>Incidencia Pélvica</th>\n",
       "      <th>Inclinação Pélvica</th>\n",
       "      <th>Ângulo da Lordose Lombar</th>\n",
       "      <th>Inclinação Sacral</th>\n",
       "      <th>Raio Pélvico</th>\n",
       "      <th>Grau de Espondilolistese</th>\n",
       "      <th>Saída</th>\n",
       "      <th>NO</th>\n",
       "      <th>SL</th>\n",
       "      <th>DH</th>\n",
       "    </tr>\n",
       "  </thead>\n",
       "  <tbody>\n",
       "    <tr>\n",
       "      <th>56</th>\n",
       "      <td>43.35</td>\n",
       "      <td>7.47</td>\n",
       "      <td>28.07</td>\n",
       "      <td>35.88</td>\n",
       "      <td>112.78</td>\n",
       "      <td>5.75</td>\n",
       "      <td>DH</td>\n",
       "      <td>0</td>\n",
       "      <td>0</td>\n",
       "      <td>1</td>\n",
       "    </tr>\n",
       "    <tr>\n",
       "      <th>309</th>\n",
       "      <td>33.84</td>\n",
       "      <td>5.07</td>\n",
       "      <td>36.64</td>\n",
       "      <td>28.77</td>\n",
       "      <td>123.95</td>\n",
       "      <td>-0.20</td>\n",
       "      <td>NO</td>\n",
       "      <td>1</td>\n",
       "      <td>0</td>\n",
       "      <td>0</td>\n",
       "    </tr>\n",
       "    <tr>\n",
       "      <th>165</th>\n",
       "      <td>83.70</td>\n",
       "      <td>20.27</td>\n",
       "      <td>77.11</td>\n",
       "      <td>63.43</td>\n",
       "      <td>125.48</td>\n",
       "      <td>69.28</td>\n",
       "      <td>SL</td>\n",
       "      <td>0</td>\n",
       "      <td>1</td>\n",
       "      <td>0</td>\n",
       "    </tr>\n",
       "    <tr>\n",
       "      <th>51</th>\n",
       "      <td>74.43</td>\n",
       "      <td>41.56</td>\n",
       "      <td>27.70</td>\n",
       "      <td>32.88</td>\n",
       "      <td>107.95</td>\n",
       "      <td>5.00</td>\n",
       "      <td>DH</td>\n",
       "      <td>0</td>\n",
       "      <td>0</td>\n",
       "      <td>1</td>\n",
       "    </tr>\n",
       "    <tr>\n",
       "      <th>283</th>\n",
       "      <td>49.00</td>\n",
       "      <td>13.11</td>\n",
       "      <td>51.87</td>\n",
       "      <td>35.88</td>\n",
       "      <td>126.40</td>\n",
       "      <td>0.54</td>\n",
       "      <td>NO</td>\n",
       "      <td>1</td>\n",
       "      <td>0</td>\n",
       "      <td>0</td>\n",
       "    </tr>\n",
       "    <tr>\n",
       "      <th>...</th>\n",
       "      <td>...</td>\n",
       "      <td>...</td>\n",
       "      <td>...</td>\n",
       "      <td>...</td>\n",
       "      <td>...</td>\n",
       "      <td>...</td>\n",
       "      <td>...</td>\n",
       "      <td>...</td>\n",
       "      <td>...</td>\n",
       "      <td>...</td>\n",
       "    </tr>\n",
       "    <tr>\n",
       "      <th>207</th>\n",
       "      <td>74.09</td>\n",
       "      <td>18.82</td>\n",
       "      <td>76.03</td>\n",
       "      <td>55.27</td>\n",
       "      <td>128.41</td>\n",
       "      <td>73.39</td>\n",
       "      <td>SL</td>\n",
       "      <td>0</td>\n",
       "      <td>1</td>\n",
       "      <td>0</td>\n",
       "    </tr>\n",
       "    <tr>\n",
       "      <th>194</th>\n",
       "      <td>72.64</td>\n",
       "      <td>18.93</td>\n",
       "      <td>68.00</td>\n",
       "      <td>53.71</td>\n",
       "      <td>116.96</td>\n",
       "      <td>25.38</td>\n",
       "      <td>SL</td>\n",
       "      <td>0</td>\n",
       "      <td>1</td>\n",
       "      <td>0</td>\n",
       "    </tr>\n",
       "    <tr>\n",
       "      <th>296</th>\n",
       "      <td>39.66</td>\n",
       "      <td>16.21</td>\n",
       "      <td>36.67</td>\n",
       "      <td>23.45</td>\n",
       "      <td>131.92</td>\n",
       "      <td>-4.97</td>\n",
       "      <td>NO</td>\n",
       "      <td>1</td>\n",
       "      <td>0</td>\n",
       "      <td>0</td>\n",
       "    </tr>\n",
       "    <tr>\n",
       "      <th>55</th>\n",
       "      <td>47.66</td>\n",
       "      <td>13.28</td>\n",
       "      <td>36.68</td>\n",
       "      <td>34.38</td>\n",
       "      <td>98.25</td>\n",
       "      <td>6.27</td>\n",
       "      <td>DH</td>\n",
       "      <td>0</td>\n",
       "      <td>0</td>\n",
       "      <td>1</td>\n",
       "    </tr>\n",
       "    <tr>\n",
       "      <th>167</th>\n",
       "      <td>72.34</td>\n",
       "      <td>16.42</td>\n",
       "      <td>59.87</td>\n",
       "      <td>55.92</td>\n",
       "      <td>70.08</td>\n",
       "      <td>12.07</td>\n",
       "      <td>SL</td>\n",
       "      <td>0</td>\n",
       "      <td>1</td>\n",
       "      <td>0</td>\n",
       "    </tr>\n",
       "  </tbody>\n",
       "</table>\n",
       "<p>93 rows × 10 columns</p>\n",
       "</div>"
      ],
      "text/plain": [
       "     Incidencia Pélvica  Inclinação Pélvica  Ângulo da Lordose Lombar  \\\n",
       "56                43.35                7.47                     28.07   \n",
       "309               33.84                5.07                     36.64   \n",
       "165               83.70               20.27                     77.11   \n",
       "51                74.43               41.56                     27.70   \n",
       "283               49.00               13.11                     51.87   \n",
       "..                  ...                 ...                       ...   \n",
       "207               74.09               18.82                     76.03   \n",
       "194               72.64               18.93                     68.00   \n",
       "296               39.66               16.21                     36.67   \n",
       "55                47.66               13.28                     36.68   \n",
       "167               72.34               16.42                     59.87   \n",
       "\n",
       "     Inclinação Sacral  Raio Pélvico  Grau de Espondilolistese Saída  NO  SL  \\\n",
       "56               35.88        112.78                      5.75    DH   0   0   \n",
       "309              28.77        123.95                     -0.20    NO   1   0   \n",
       "165              63.43        125.48                     69.28    SL   0   1   \n",
       "51               32.88        107.95                      5.00    DH   0   0   \n",
       "283              35.88        126.40                      0.54    NO   1   0   \n",
       "..                 ...           ...                       ...   ...  ..  ..   \n",
       "207              55.27        128.41                     73.39    SL   0   1   \n",
       "194              53.71        116.96                     25.38    SL   0   1   \n",
       "296              23.45        131.92                     -4.97    NO   1   0   \n",
       "55               34.38         98.25                      6.27    DH   0   0   \n",
       "167              55.92         70.08                     12.07    SL   0   1   \n",
       "\n",
       "     DH  \n",
       "56    1  \n",
       "309   0  \n",
       "165   0  \n",
       "51    1  \n",
       "283   0  \n",
       "..   ..  \n",
       "207   0  \n",
       "194   0  \n",
       "296   0  \n",
       "55    1  \n",
       "167   0  \n",
       "\n",
       "[93 rows x 10 columns]"
      ]
     },
     "execution_count": 7,
     "metadata": {},
     "output_type": "execute_result"
    }
   ],
   "source": [
    "# Juntando todos os dados de teste e misturando-os\n",
    "df_Test = [DH_Test, SL_Test, NO_Test]\n",
    "df_Test = pd.concat(df_Test)\n",
    "df_Test = df_Test.sample(frac = 1)\n",
    "df_Test"
   ]
  },
  {
   "cell_type": "code",
   "execution_count": 8,
   "id": "e0324dad",
   "metadata": {},
   "outputs": [],
   "source": [
    "# Função para calcular a saída do neuronio\n",
    "def calc_saida (pesos, entrada, bias):\n",
    "    saida = np.dot(pesos, entrada) + bias\n",
    "    return saida"
   ]
  },
  {
   "cell_type": "code",
   "execution_count": 9,
   "id": "e5b42028",
   "metadata": {},
   "outputs": [],
   "source": [
    "# Função para aplicar o Degrau nos resultados obtidos\n",
    "def degrau (saida):\n",
    "    saida_binaria = []\n",
    "    for i in range (0, len(saida)):\n",
    "        if saida[i] >= 0:\n",
    "            saida_binaria.append(1)\n",
    "        else:\n",
    "            saida_binaria.append(0)\n",
    "    return saida_binaria"
   ]
  },
  {
   "cell_type": "code",
   "execution_count": 10,
   "id": "d3580340",
   "metadata": {},
   "outputs": [],
   "source": [
    "# Função para obter a saída Sigmoide da amostra\n",
    "def sigmoide (saida):\n",
    "    saida_sigmoide = []\n",
    "    for i in range (0, len(saida)):\n",
    "        sig = 1 / (1 + np.exp(-saida[i]))\n",
    "        saida_sigmoide.append(sig)\n",
    "    return saida_sigmoide"
   ]
  },
  {
   "cell_type": "code",
   "execution_count": 11,
   "id": "f65050b0",
   "metadata": {},
   "outputs": [],
   "source": [
    "# Função para binarizar as saída da função Sigmoide a partir do maior valor (max)\n",
    "def bin_sigmoide(saida_sigmoide):\n",
    "    saida_binaria = []\n",
    "    max_index = np.where(saida_sigmoide == max(saida_sigmoide))[0][0]\n",
    "    for i in range(0, len(saida_sigmoide)):\n",
    "        saida_binaria.append(0)\n",
    "    saida_binaria[max_index] = 1\n",
    "    return saida_binaria        "
   ]
  },
  {
   "cell_type": "code",
   "execution_count": 12,
   "id": "5287fca5",
   "metadata": {},
   "outputs": [],
   "source": [
    "# Função para calcular o erro da amostra\n",
    "def calc_erro (saida_esperada, saida):\n",
    "    erro = saida_esperada - saida\n",
    "    desvio_erro = np.dot(erro, erro.T)\n",
    "    return erro, desvio_erro"
   ]
  },
  {
   "cell_type": "code",
   "execution_count": 13,
   "id": "7141afe8",
   "metadata": {},
   "outputs": [],
   "source": [
    "# Função para calcular os novos pesos\n",
    "def calc_pesos (pesos, entrada, erro, taxa_aprendizado):\n",
    "    entrada = entrada.values.reshape(1, 6)\n",
    "    erro = erro.reshape(3, 1)\n",
    "    pesos_novo = pesos + taxa_aprendizado * np.dot(erro, entrada)\n",
    "    return pesos_novo"
   ]
  },
  {
   "cell_type": "code",
   "execution_count": 14,
   "id": "68ce23e7",
   "metadata": {},
   "outputs": [],
   "source": [
    "# Função para calcular o bias\n",
    "def calc_bias (bias, erro, taxa_aprendizado):\n",
    "    bias_novo = bias + taxa_aprendizado * erro\n",
    "    return bias_novo"
   ]
  },
  {
   "cell_type": "code",
   "execution_count": 15,
   "id": "ff29010e",
   "metadata": {},
   "outputs": [],
   "source": [
    "# Função para treinar a Rede Neural >:3\n",
    "def treina_rede(peso, bias, data_learn, tipo_funcao, maximo_iteracoes, taxa_aprendizado):\n",
    "    epoca = 1; erro_total_epoca = 1;\n",
    "    erro_epocas = []; \n",
    "\n",
    "    while (epoca < maximo_iteracoes) and (erro_total_epoca > 0):   \n",
    "        erro_total_epoca = 0\n",
    "        for i in range(0, len(data_learn)):\n",
    "            # Recebendo a amostra Xi\n",
    "            x = data_learn.iloc[[i]]\n",
    "            saida_desejada = x.T[7:10]\n",
    "            xt = x.T[:6]\n",
    "            entrada = xt[xt.columns[0]]\n",
    "            # Calculando a saída Yi\n",
    "            y = calc_saida(peso, entrada, bias)\n",
    "            if tipo_funcao == 'degrau':\n",
    "                y = degrau(y)\n",
    "            elif tipo_funcao == 'sigmoide':\n",
    "                y = sigmoide(y)\n",
    "            # Obtendo erros:\n",
    "            erros = calc_erro(np.array(saida_desejada[saida_desejada.columns[0]]), y)\n",
    "            erro_amostra = erros[0]\n",
    "            erro_quadratico_amostra = erros[1]\n",
    "            erro_total_epoca += erro_quadratico_amostra\n",
    "            # Obtendo novos pesos\n",
    "            peso = calc_pesos(peso, entrada, erro_amostra, taxa_aprendizado)\n",
    "            bias = calc_bias(bias, erro_amostra, taxa_aprendizado)\n",
    "        erro_epocas.append(erro_total_epoca)\n",
    "        epoca = epoca + 1    \n",
    "    return erro_epocas, peso, bias"
   ]
  },
  {
   "cell_type": "code",
   "execution_count": 16,
   "id": "4d77d68f",
   "metadata": {},
   "outputs": [],
   "source": [
    "# Função para testar a Rede Neural:\n",
    "def teste_rede (peso, bias, data_test, tipo_funcao):\n",
    "    numero_acertos = 0\n",
    "    for i in range(0, len(df_Test)):\n",
    "        amostra = df_Test.iloc[[i]]\n",
    "        saida_desejada_teste = amostra.T[7:10].values\n",
    "        saida_desejada_teste = str(saida_desejada_teste[0][0]) + str(saida_desejada_teste[1][0]) + str(saida_desejada_teste[2][0])\n",
    "        x_teste = amostra.T[0:6]\n",
    "        x_teste = x_teste[x_teste.columns[0]]\n",
    "        saida_encontrada_teste = calc_saida(peso, x_teste, bias)\n",
    "        if tipo_funcao == 'degrau':\n",
    "            saida_encontrada_teste = degrau(saida_encontrada_teste)\n",
    "        elif tipo_funcao == 'sigmoide':\n",
    "            saida_encontrada_teste = bin_sigmoide(saida_encontrada_teste)\n",
    "        saida_encontrada_teste = str(saida_encontrada_teste[0]) + str(saida_encontrada_teste[1]) + str(saida_encontrada_teste[2])\n",
    "        if saida_desejada_teste == saida_encontrada_teste:\n",
    "            numero_acertos = numero_acertos + 1\n",
    "\n",
    "    acuracia = numero_acertos / len(df_Test)\n",
    "    return acuracia"
   ]
  },
  {
   "cell_type": "markdown",
   "id": "9049b8b9",
   "metadata": {},
   "source": [
    "# Rede Neural utilizando DEGRAU:"
   ]
  },
  {
   "cell_type": "code",
   "execution_count": 17,
   "id": "842b0901",
   "metadata": {},
   "outputs": [
    {
     "name": "stdout",
     "output_type": "stream",
     "text": [
      "[[ 0.57949809 -0.71787251 -0.4134133  -0.711447   -0.06009915  0.09659587]\n",
      " [-0.68369824  0.14622696  0.23806264 -0.56171646 -0.19310768  0.52014403]\n",
      " [ 0.71431436  0.19204557  0.17971434  0.43604054 -0.97868819  0.83326921]]\n",
      "[ 0.08766083  0.54521996 -0.82151274]\n"
     ]
    }
   ],
   "source": [
    "# Gerando os primeiros valores aleatoios para 'w' e 'b' para a função DEGRAU\n",
    "w = np.random.uniform(-1,1, size=(3,6))\n",
    "b = np.random.uniform(-1,1, size=(3))\n",
    "\n",
    "print(w)\n",
    "print(b)"
   ]
  },
  {
   "cell_type": "code",
   "execution_count": 18,
   "id": "911e63e0",
   "metadata": {},
   "outputs": [
    {
     "name": "stdout",
     "output_type": "stream",
     "text": [
      "Erro por epoca: [165, 133, 128, 120, 123, 116, 120, 108, 118, 114, 115, 109, 122, 116, 109, 104, 117, 116, 118, 118, 111, 112, 115, 112, 125, 108, 118, 115, 114, 114, 116, 111, 102, 109, 114, 115, 115, 117, 114, 113, 106, 110, 109, 118, 105, 114, 111, 103, 101, 122, 118, 110, 108, 120, 108, 112, 118, 96, 113, 110, 109, 113, 107, 107, 104, 115, 107, 112, 114, 100, 115, 111, 95, 108, 111, 104, 109, 108, 113, 116, 112, 118, 110, 106, 115, 111, 102, 97, 109, 101, 110, 111, 103, 108, 124, 110, 118, 99, 116, 114, 107, 104, 109, 109, 123, 121, 113, 109, 117, 105, 104, 108, 103, 109, 116, 117, 118, 121, 110, 106]\n"
     ]
    }
   ],
   "source": [
    "taxa_aprendizado = 0.5; maximo_iteracoes = 121;\n",
    "tipo_funcao = 'degrau'\n",
    "treino_degrau = treina_rede(w, b, df_Learn, tipo_funcao, maximo_iteracoes, taxa_aprendizado)\n",
    "print(\"Erro por epoca: \" + str(treino_degrau[0]))"
   ]
  },
  {
   "cell_type": "code",
   "execution_count": 19,
   "id": "7dd41461",
   "metadata": {},
   "outputs": [
    {
     "name": "stdout",
     "output_type": "stream",
     "text": [
      "Pesos: [[-255.87050191092553 -326.32787251027077 477.74658670064554\n",
      "  68.26855300342939 -49.17009914586949 -669.6534041320186]\n",
      " [-0.8086982420288074 -95.02877304496404 -3.646937356303969\n",
      "  95.2182835401547 -141.93310767586462 755.1401440263154]\n",
      " [128.93931436143887 323.3820455698304 -312.01028566420774\n",
      "  -196.45895945766284 106.17631180645304 -356.43673079281206]]\n",
      "\n",
      " Bias: [-106.41233916843872 -31.454780041973265 107.6784872615467]\n"
     ]
    }
   ],
   "source": [
    "peso_DEGRAU = treino_degrau[1]\n",
    "bias_DEGRAU = treino_degrau[2]\n",
    "\n",
    "print(\"Pesos: \" + str(peso_DEGRAU))\n",
    "print(\"\\n Bias: \" + str(bias_DEGRAU))"
   ]
  },
  {
   "cell_type": "code",
   "execution_count": 20,
   "id": "ab4d61ee",
   "metadata": {},
   "outputs": [
    {
     "data": {
      "image/png": "[encoded data removed]",
      "text/plain": [
       "<Figure size 432x288 with 1 Axes>"
      ]
     },
     "metadata": {
      "needs_background": "light"
     },
     "output_type": "display_data"
    }
   ],
   "source": [
    "coord_x = list(range(1, 121))\n",
    "coord_yDEGRAU = treino_degrau[0]\n",
    "\n",
    "plt.title(\"Erro por epoca c/ função DEGRAU\")\n",
    "plt.plot(coord_x, coord_yDEGRAU, color=\"green\")\n",
    "plt.show()"
   ]
  },
  {
   "cell_type": "code",
   "execution_count": 21,
   "id": "106dfd7e",
   "metadata": {},
   "outputs": [
    {
     "name": "stdout",
     "output_type": "stream",
     "text": [
      "Acuracia para a Rede Neural utilizando a função DEGRAU foi de: 65.59139784946237%\n"
     ]
    }
   ],
   "source": [
    "tipo_funcao = 'degrau'\n",
    "acuracia_degrau = teste_rede(peso_DEGRAU, bias_DEGRAU, df_Test, tipo_funcao)\n",
    "print(\"Acuracia para a Rede Neural utilizando a função DEGRAU foi de: \" + str(acuracia_degrau * 100) + \"%\")"
   ]
  },
  {
   "cell_type": "markdown",
   "id": "7ffb63b6",
   "metadata": {},
   "source": [
    "# Rede Neural utilizando SIGMOIDE:"
   ]
  },
  {
   "cell_type": "code",
   "execution_count": 22,
   "id": "d7f6cfa2",
   "metadata": {},
   "outputs": [
    {
     "name": "stdout",
     "output_type": "stream",
     "text": [
      "[[ 0.51580757  0.78101777  0.95982435  0.97611408  0.50040402 -0.25366755]\n",
      " [ 0.85140095 -0.73674648 -0.58071515 -0.75387166 -0.37649466 -0.65541727]\n",
      " [-0.6382726  -0.23189617  0.94100434  0.83848652  0.59223886 -0.35713996]]\n",
      "[-0.77913949 -0.22033964  0.80186771]\n"
     ]
    }
   ],
   "source": [
    "# Gerando os primeiros valores aleatoios para 'w' e 'b' para a função SIGMOIDE\n",
    "w = np.random.uniform(-1,1, size=(3,6))\n",
    "b = np.random.uniform(-1,1, size=(3))\n",
    "\n",
    "print(w)\n",
    "print(b)"
   ]
  },
  {
   "cell_type": "code",
   "execution_count": 23,
   "id": "02c59183",
   "metadata": {},
   "outputs": [
    {
     "name": "stderr",
     "output_type": "stream",
     "text": [
      "C:\\Users\\Mark\\AppData\\Local\\Temp\\ipykernel_10400\\147260631.py:5: RuntimeWarning: overflow encountered in exp\n",
      "  sig = 1 / (1 + np.exp(-saida[i]))\n"
     ]
    },
    {
     "name": "stdout",
     "output_type": "stream",
     "text": [
      "Erro por epoca: [170.95379203199352, 126.0, 114.0011124763397, 121.00055243984038, 123.00000050385582, 122.0, 122.0, 110.0, 114.00000000405204, 110.00005494519753, 115.0017304709854, 119.0, 125.0, 109.99999999999855, 113.0, 115.9999998992488, 121.0, 117.00000014597086, 107.99999998218871, 117.99999971190068, 113.99960450635295, 117.99999853308168, 120.00000000000313, 113.0, 116.46626409661106, 105.99999982332281, 113.96778542173128, 115.0, 109.51171140248668, 102.99999926946802, 115.02592907353103, 105.999127347814, 116.99999999999994, 111.0, 108.0, 112.00000000088002, 103.99999994719128, 118.0, 113.99999993764388, 112.0, 108.99999999999994, 107.0, 110.02008413923747, 121.0, 102.97967488549534, 113.0, 111.2961610210152, 123.66932530856543, 95.99999999942976, 114.99999999875035, 101.0, 115.99999985188344, 107.84234318583533, 109.83499527761745, 115.0, 103.99999999999974, 107.99999999995036, 106.00000000000003, 101.99964061993151, 114.00000000043188, 117.99999594511173, 120.99672185469898, 104.0, 116.99999999973878, 113.0, 106.0, 111.0, 107.45840347074962, 115.99999806393262, 105.99999989443482, 105.00000001699583, 112.0, 117.76001845864444, 98.0, 100.00643009007932, 99.0, 105.67289482038682, 99.07351226309648, 125.9999999820117, 101.9968455074805, 108.0, 114.99999997709979, 118.00000000093351, 109.0, 111.99991474316263, 109.00000000000021, 114.99725992730114, 103.99999999999979, 111.04165571207264, 109.99999999932177, 106.90488343984234, 98.00000000000006, 113.0, 101.0, 109.99999999989602, 110.9996992211488, 107.99999999996169, 105.00000010910384, 115.99977533747588, 116.99999993872986, 113.99978835818037, 95.9999998340884, 109.00001149962134, 113.99900787239503, 110.97503487634788, 105.9999982161056, 118.0, 103.99999963512906, 115.99999999999119, 104.99999999999982, 112.31913557866396, 115.0, 112.0, 113.00017624299551, 106.99999978561928, 118.0, 104.9511588892812, 109.08827264628844, 114.93512310659521, 96.0]\n"
     ]
    }
   ],
   "source": [
    "taxa_aprendizado = 0.5; maximo_iteracoes = 121;\n",
    "tipo_funcao = 'sigmoide'\n",
    "treino_sigmoide = treina_rede(w, b, df_Learn, tipo_funcao, maximo_iteracoes, taxa_aprendizado)\n",
    "print(\"Erro por epoca: \" + str(treino_sigmoide[0]))"
   ]
  },
  {
   "cell_type": "code",
   "execution_count": 24,
   "id": "b51ba7ca",
   "metadata": {},
   "outputs": [
    {
     "name": "stdout",
     "output_type": "stream",
     "text": [
      "Pesos: [[-247.64749841696425 -323.307992642285 488.78287401104046\n",
      "  76.67584956412362 -59.466596717598975 -683.2330230941421]\n",
      " [34.8257000767902 -81.2843371138309 -5.651991782807116\n",
      "  114.48586497000176 -116.5961769699856 755.0593239225304]\n",
      " [101.30225775632587 318.7282040354953 -280.6190468104809\n",
      "  -217.92003612162057 101.3034886884468 -306.28718484732497]]\n",
      "\n",
      " Bias: [-105.71897712306493 -32.299924327590624 107.885349489629]\n"
     ]
    }
   ],
   "source": [
    "peso_SIGMOIDE = treino_sigmoide[1]\n",
    "bias_SIGMOIDE = treino_sigmoide[2]\n",
    "\n",
    "print(\"Pesos: \" + str(peso_SIGMOIDE))\n",
    "print(\"\\n Bias: \" + str(bias_SIGMOIDE))"
   ]
  },
  {
   "cell_type": "code",
   "execution_count": 25,
   "id": "2f5ac520",
   "metadata": {},
   "outputs": [
    {
     "data": {
      "image/png": "[encoded data removed]",
      "text/plain": [
       "<Figure size 432x288 with 1 Axes>"
      ]
     },
     "metadata": {
      "needs_background": "light"
     },
     "output_type": "display_data"
    }
   ],
   "source": [
    "coord_x = list(range(1, maximo_iteracoes))\n",
    "coord_ySIGMOIDE = treino_sigmoide[0]\n",
    "\n",
    "plt.title(\"Erro por epoca c/ função SIGMOIDE\")\n",
    "plt.plot(coord_x, coord_ySIGMOIDE, color=\"red\")\n",
    "plt.show()"
   ]
  },
  {
   "cell_type": "code",
   "execution_count": 26,
   "id": "a35ea24f",
   "metadata": {},
   "outputs": [
    {
     "name": "stdout",
     "output_type": "stream",
     "text": [
      "Acuracia para a Rede Neural utilizando a função DEGRAU foi de: 73.11827956989248%\n"
     ]
    }
   ],
   "source": [
    "tipo_funcao = 'sigmoide'\n",
    "acuracia_sigmoide = teste_rede(peso_SIGMOIDE, bias_SIGMOIDE, df_Test, tipo_funcao)\n",
    "print(\"Acuracia para a Rede Neural utilizando a função DEGRAU foi de: \" + str(acuracia_sigmoide * 100) + \"%\")"
   ]
  },
  {
   "cell_type": "markdown",
   "id": "e012a839",
   "metadata": {},
   "source": [
    "# Resultados"
   ]
  },
  {
   "cell_type": "markdown",
   "id": "1d470071",
   "metadata": {},
   "source": [
    "Podemos perceber que a acuracia usando o método de SIGMOIDE foi consideravelmente superior ao treinamento usando a função limiar como a função DEGRAU, os gráficos de Erro acumulado por época junto da acuracia encontrada pelas duas funções pode ser re-visto abaixo:\n",
    "\n",
    "Lembrando que para o treinamento foi utilizado 121 iterações/epocas com uma taxa de aprendizado de 0.5"
   ]
  },
  {
   "cell_type": "code",
   "execution_count": 27,
   "id": "45da6981",
   "metadata": {},
   "outputs": [
    {
     "data": {
      "image/png": "[encoded data removed]",
      "text/plain": [
       "<Figure size 432x288 with 1 Axes>"
      ]
     },
     "metadata": {
      "needs_background": "light"
     },
     "output_type": "display_data"
    }
   ],
   "source": [
    "coord_x = list(range(1, maximo_iteracoes))\n",
    "plt.title(\"Erro por epoca c/ DEGRAU (Verde) e SIGMOIDE (Vermelho)\")\n",
    "plt.plot(coord_x, coord_yDEGRAU,color=\"green\")\n",
    "plt.plot(coord_x, coord_ySIGMOIDE,color=\"red\")\n",
    "plt.show()"
   ]
  },
  {
   "cell_type": "code",
   "execution_count": 28,
   "id": "4f1d01e1",
   "metadata": {},
   "outputs": [
    {
     "name": "stdout",
     "output_type": "stream",
     "text": [
      "Acuracia para a Rede Neural utilizando a função DEGRAU foi de: 65.59139784946237%\n",
      "Acuracia para a Rede Neural utilizando a função SIGMOIDE foi de: 73.11827956989248%\n"
     ]
    }
   ],
   "source": [
    "print(\"Acuracia para a Rede Neural utilizando a função DEGRAU foi de: \" + str(acuracia_degrau * 100) + \"%\")\n",
    "print(\"Acuracia para a Rede Neural utilizando a função SIGMOIDE foi de: \" + str(acuracia_sigmoide * 100) + \"%\")"
   ]
  }
 ],
 "metadata": {
  "kernelspec": {
   "display_name": "Python 3.10.5 64-bit",
   "language": "python",
   "name": "python3"
  },
  "language_info": {
   "codemirror_mode": {
    "name": "ipython",
    "version": 3
   },
   "file_extension": ".py",
   "mimetype": "text/x-python",
   "name": "python",
   "nbconvert_exporter": "python",
   "pygments_lexer": "ipython3",
   "version": "3.10.5"
  },
  "vscode": {
   "interpreter": {
    "hash": "bebf9730dc43cfbc35fb329a82a69476f49cde6de038a2bbfc26f12404ad85fb"
   }
  }
 },
 "nbformat": 4,
 "nbformat_minor": 5
}
